{
 "cells": [
  {
   "cell_type": "code",
   "execution_count": 2,
   "id": "0871dec9",
   "metadata": {},
   "outputs": [],
   "source": [
    "import numpy as np\n",
    "import pandas as pd"
   ]
  },
  {
   "cell_type": "code",
   "execution_count": 10,
   "id": "cfa9e3b9",
   "metadata": {},
   "outputs": [],
   "source": [
    "# help(pd.Series)"
   ]
  },
  {
   "cell_type": "code",
   "execution_count": 4,
   "id": "b51d6e2d",
   "metadata": {},
   "outputs": [],
   "source": [
    "myindex=['usa','canada','india']"
   ]
  },
  {
   "cell_type": "code",
   "execution_count": 5,
   "id": "da22ebac",
   "metadata": {},
   "outputs": [],
   "source": [
    "mydata=[1776,1867,1821]"
   ]
  },
  {
   "cell_type": "code",
   "execution_count": 8,
   "id": "b0f1a2ea",
   "metadata": {},
   "outputs": [
    {
     "data": {
      "text/plain": [
       "usa       1776\n",
       "canada    1867\n",
       "india     1821\n",
       "dtype: int64"
      ]
     },
     "execution_count": 8,
     "metadata": {},
     "output_type": "execute_result"
    }
   ],
   "source": [
    "myser=pd.Series(data=mydata,index=myindex)\n",
    "myser"
   ]
  },
  {
   "cell_type": "code",
   "execution_count": 9,
   "id": "4039c3ec",
   "metadata": {},
   "outputs": [
    {
     "data": {
      "text/plain": [
       "pandas.core.series.Series"
      ]
     },
     "execution_count": 9,
     "metadata": {},
     "output_type": "execute_result"
    }
   ],
   "source": [
    "type(myser)"
   ]
  },
  {
   "cell_type": "code",
   "execution_count": 11,
   "id": "3e73d5aa",
   "metadata": {},
   "outputs": [
    {
     "data": {
      "text/plain": [
       "1776"
      ]
     },
     "execution_count": 11,
     "metadata": {},
     "output_type": "execute_result"
    }
   ],
   "source": [
    "myser[0]"
   ]
  },
  {
   "cell_type": "code",
   "execution_count": 12,
   "id": "1d84f85c",
   "metadata": {},
   "outputs": [
    {
     "data": {
      "text/plain": [
       "1821"
      ]
     },
     "execution_count": 12,
     "metadata": {},
     "output_type": "execute_result"
    }
   ],
   "source": [
    "myser['india']\n",
    "# Series retain bith numeric as well as labeled index"
   ]
  },
  {
   "cell_type": "code",
   "execution_count": 14,
   "id": "18626dcb",
   "metadata": {},
   "outputs": [
    {
     "data": {
      "text/plain": [
       "usa       1776\n",
       "canada    1867\n",
       "india     1821\n",
       "dtype: int64"
      ]
     },
     "execution_count": 14,
     "metadata": {},
     "output_type": "execute_result"
    }
   ],
   "source": [
    "mys=pd.Series(mydata,myindex)\n",
    "mys"
   ]
  },
  {
   "cell_type": "code",
   "execution_count": 15,
   "id": "544475ed",
   "metadata": {},
   "outputs": [],
   "source": [
    "# dictionary\n",
    "ages={'Sam':50,'Shritik':100,'Franky':0}"
   ]
  },
  {
   "cell_type": "code",
   "execution_count": 16,
   "id": "d3935b93",
   "metadata": {},
   "outputs": [
    {
     "data": {
      "text/plain": [
       "Sam         50\n",
       "Shritik    100\n",
       "Franky       0\n",
       "dtype: int64"
      ]
     },
     "execution_count": 16,
     "metadata": {},
     "output_type": "execute_result"
    }
   ],
   "source": [
    "pd.Series(ages)"
   ]
  },
  {
   "cell_type": "code",
   "execution_count": 19,
   "id": "d698ffe6",
   "metadata": {},
   "outputs": [
    {
     "data": {
      "text/plain": [
       "150"
      ]
     },
     "execution_count": 19,
     "metadata": {},
     "output_type": "execute_result"
    }
   ],
   "source": [
    "expenses = pd.Series({'Andrew':200,'Bob':150,'Claire':450})\n",
    "\n",
    "bob_expense = expenses['Bob']\n",
    "bob_expense"
   ]
  },
  {
   "cell_type": "code",
   "execution_count": 31,
   "id": "c9637665",
   "metadata": {},
   "outputs": [],
   "source": [
    "q1={'japan':80,'china':450,'india':250,'usa':250}\n",
    "q2={'brazil':100,'china':500,'india':210,'usa':260}"
   ]
  },
  {
   "cell_type": "code",
   "execution_count": 32,
   "id": "3f8e2a65",
   "metadata": {},
   "outputs": [],
   "source": [
    "sale_q1=pd.Series(q1)"
   ]
  },
  {
   "cell_type": "code",
   "execution_count": 33,
   "id": "8586c4df",
   "metadata": {},
   "outputs": [],
   "source": [
    "sale_q2=pd.Series(q2)"
   ]
  },
  {
   "cell_type": "code",
   "execution_count": 34,
   "id": "2134edcb",
   "metadata": {},
   "outputs": [
    {
     "data": {
      "text/plain": [
       "japan     80\n",
       "china    450\n",
       "india    250\n",
       "usa      250\n",
       "dtype: int64"
      ]
     },
     "execution_count": 34,
     "metadata": {},
     "output_type": "execute_result"
    }
   ],
   "source": [
    "sale_q1"
   ]
  },
  {
   "cell_type": "code",
   "execution_count": 35,
   "id": "2b8a3936",
   "metadata": {},
   "outputs": [
    {
     "data": {
      "text/plain": [
       "brazil    100\n",
       "china     500\n",
       "india     210\n",
       "usa       260\n",
       "dtype: int64"
      ]
     },
     "execution_count": 35,
     "metadata": {},
     "output_type": "execute_result"
    }
   ],
   "source": [
    "sale_q2"
   ]
  },
  {
   "cell_type": "code",
   "execution_count": 36,
   "id": "9879243b",
   "metadata": {},
   "outputs": [
    {
     "data": {
      "text/plain": [
       "80"
      ]
     },
     "execution_count": 36,
     "metadata": {},
     "output_type": "execute_result"
    }
   ],
   "source": [
    "sale_q1['japan']"
   ]
  },
  {
   "cell_type": "code",
   "execution_count": 37,
   "id": "e06a4168",
   "metadata": {},
   "outputs": [
    {
     "data": {
      "text/plain": [
       "Index(['japan', 'china', 'india', 'usa'], dtype='object')"
      ]
     },
     "execution_count": 37,
     "metadata": {},
     "output_type": "execute_result"
    }
   ],
   "source": [
    "sale_q1.keys()"
   ]
  },
  {
   "cell_type": "code",
   "execution_count": 40,
   "id": "2c9ac0fe",
   "metadata": {},
   "outputs": [
    {
     "data": {
      "text/plain": [
       "[1, 2, 1, 2]"
      ]
     },
     "execution_count": 40,
     "metadata": {},
     "output_type": "execute_result"
    }
   ],
   "source": [
    "[1,2]*2"
   ]
  },
  {
   "cell_type": "code",
   "execution_count": 41,
   "id": "7e43c33e",
   "metadata": {},
   "outputs": [
    {
     "data": {
      "text/plain": [
       "array([2, 4])"
      ]
     },
     "execution_count": 41,
     "metadata": {},
     "output_type": "execute_result"
    }
   ],
   "source": [
    "np.array([1,2])*2"
   ]
  },
  {
   "cell_type": "code",
   "execution_count": 42,
   "id": "df180ab3",
   "metadata": {},
   "outputs": [
    {
     "data": {
      "text/plain": [
       "japan    160\n",
       "china    900\n",
       "india    500\n",
       "usa      500\n",
       "dtype: int64"
      ]
     },
     "execution_count": 42,
     "metadata": {},
     "output_type": "execute_result"
    }
   ],
   "source": [
    "sale_q1*2"
   ]
  },
  {
   "cell_type": "code",
   "execution_count": 43,
   "id": "ded557d3",
   "metadata": {},
   "outputs": [
    {
     "data": {
      "text/plain": [
       "japan     80\n",
       "china    450\n",
       "india    250\n",
       "usa      250\n",
       "dtype: int64"
      ]
     },
     "execution_count": 43,
     "metadata": {},
     "output_type": "execute_result"
    }
   ],
   "source": [
    "sale_q1"
   ]
  },
  {
   "cell_type": "code",
   "execution_count": 44,
   "id": "b4416438",
   "metadata": {},
   "outputs": [
    {
     "data": {
      "text/plain": [
       "brazil    100\n",
       "china     500\n",
       "india     210\n",
       "usa       260\n",
       "dtype: int64"
      ]
     },
     "execution_count": 44,
     "metadata": {},
     "output_type": "execute_result"
    }
   ],
   "source": [
    "sale_q2"
   ]
  },
  {
   "cell_type": "code",
   "execution_count": 53,
   "id": "881f45eb",
   "metadata": {},
   "outputs": [
    {
     "data": {
      "text/plain": [
       "dtype('int64')"
      ]
     },
     "execution_count": 53,
     "metadata": {},
     "output_type": "execute_result"
    }
   ],
   "source": [
    "sale_q2.dtype"
   ]
  },
  {
   "cell_type": "code",
   "execution_count": 45,
   "id": "be372e92",
   "metadata": {},
   "outputs": [
    {
     "data": {
      "text/plain": [
       "brazil      NaN\n",
       "china     950.0\n",
       "india     460.0\n",
       "japan       NaN\n",
       "usa       510.0\n",
       "dtype: float64"
      ]
     },
     "execution_count": 45,
     "metadata": {},
     "output_type": "execute_result"
    }
   ],
   "source": [
    "sale_q1+sale_q2"
   ]
  },
  {
   "cell_type": "code",
   "execution_count": 56,
   "id": "a85f3655",
   "metadata": {},
   "outputs": [
    {
     "data": {
      "text/plain": [
       "brazil    100.0\n",
       "china     950.0\n",
       "india     460.0\n",
       "japan      80.0\n",
       "usa       510.0\n",
       "dtype: float64"
      ]
     },
     "execution_count": 56,
     "metadata": {},
     "output_type": "execute_result"
    }
   ],
   "source": [
    "res=sale_q1.add(sale_q2,fill_value=0)\n",
    "res"
   ]
  },
  {
   "cell_type": "code",
   "execution_count": 57,
   "id": "71244e39",
   "metadata": {},
   "outputs": [
    {
     "data": {
      "text/plain": [
       "dtype('float64')"
      ]
     },
     "execution_count": 57,
     "metadata": {},
     "output_type": "execute_result"
    }
   ],
   "source": [
    "res.dtype"
   ]
  },
  {
   "cell_type": "code",
   "execution_count": null,
   "id": "a84960cc",
   "metadata": {},
   "outputs": [],
   "source": []
  }
 ],
 "metadata": {
  "kernelspec": {
   "display_name": "Python 3 (ipykernel)",
   "language": "python",
   "name": "python3"
  },
  "language_info": {
   "codemirror_mode": {
    "name": "ipython",
    "version": 3
   },
   "file_extension": ".py",
   "mimetype": "text/x-python",
   "name": "python",
   "nbconvert_exporter": "python",
   "pygments_lexer": "ipython3",
   "version": "3.9.7"
  }
 },
 "nbformat": 4,
 "nbformat_minor": 5
}
