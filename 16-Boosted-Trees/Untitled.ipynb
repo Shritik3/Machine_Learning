{
 "cells": [
  {
   "cell_type": "code",
   "execution_count": null,
   "id": "88b69625",
   "metadata": {},
   "outputs": [],
   "source": [
    "# boosting is meta learning as we can apply to any machine learning\n",
    "# product of coeff with an estimator(result of machine learning algo) sum that all into an ensemble\n",
    "# "
   ]
  }
 ],
 "metadata": {
  "kernelspec": {
   "display_name": "Python 3 (ipykernel)",
   "language": "python",
   "name": "python3"
  },
  "language_info": {
   "codemirror_mode": {
    "name": "ipython",
    "version": 3
   },
   "file_extension": ".py",
   "mimetype": "text/x-python",
   "name": "python",
   "nbconvert_exporter": "python",
   "pygments_lexer": "ipython3",
   "version": "3.9.7"
  }
 },
 "nbformat": 4,
 "nbformat_minor": 5
}
