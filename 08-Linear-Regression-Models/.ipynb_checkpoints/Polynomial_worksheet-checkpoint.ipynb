{
 "cells": [
  {
   "cell_type": "code",
   "execution_count": 1,
   "id": "07bedb8c",
   "metadata": {},
   "outputs": [],
   "source": [
    "# Non linear feature relationship to label\n",
    "# Interaction terms between features\n",
    "# If feature X behaves like log x\n",
    "# If we increase degree it becomes more linear to find accurate beta coefficients"
   ]
  },
  {
   "cell_type": "code",
   "execution_count": 2,
   "id": "393ae0b6",
   "metadata": {},
   "outputs": [],
   "source": [
    "# Effect of one feature with other i.e interaction term\n",
    "# Bias=1(default),original,power and interaction\n",
    "# x1=2 and x2=3\n",
    "# 1,2,3,4,6,9"
   ]
  },
  {
   "cell_type": "code",
   "execution_count": 3,
   "id": "5d5a915f",
   "metadata": {},
   "outputs": [],
   "source": [
    "import pandas as pd\n",
    "import numpy as np\n",
    "import matplotlib.pyplot as plt\n",
    "import seaborn as sns"
   ]
  },
  {
   "cell_type": "code",
   "execution_count": 4,
   "id": "92e41331",
   "metadata": {},
   "outputs": [],
   "source": [
    "df=pd.read_csv('Advertising.csv')"
   ]
  },
  {
   "cell_type": "code",
   "execution_count": 5,
   "id": "6ecc3f93",
   "metadata": {},
   "outputs": [
    {
     "data": {
      "text/html": [
       "<div>\n",
       "<style scoped>\n",
       "    .dataframe tbody tr th:only-of-type {\n",
       "        vertical-align: middle;\n",
       "    }\n",
       "\n",
       "    .dataframe tbody tr th {\n",
       "        vertical-align: top;\n",
       "    }\n",
       "\n",
       "    .dataframe thead th {\n",
       "        text-align: right;\n",
       "    }\n",
       "</style>\n",
       "<table border=\"1\" class=\"dataframe\">\n",
       "  <thead>\n",
       "    <tr style=\"text-align: right;\">\n",
       "      <th></th>\n",
       "      <th>TV</th>\n",
       "      <th>radio</th>\n",
       "      <th>newspaper</th>\n",
       "      <th>sales</th>\n",
       "    </tr>\n",
       "  </thead>\n",
       "  <tbody>\n",
       "    <tr>\n",
       "      <th>0</th>\n",
       "      <td>230.1</td>\n",
       "      <td>37.8</td>\n",
       "      <td>69.2</td>\n",
       "      <td>22.1</td>\n",
       "    </tr>\n",
       "    <tr>\n",
       "      <th>1</th>\n",
       "      <td>44.5</td>\n",
       "      <td>39.3</td>\n",
       "      <td>45.1</td>\n",
       "      <td>10.4</td>\n",
       "    </tr>\n",
       "    <tr>\n",
       "      <th>2</th>\n",
       "      <td>17.2</td>\n",
       "      <td>45.9</td>\n",
       "      <td>69.3</td>\n",
       "      <td>9.3</td>\n",
       "    </tr>\n",
       "    <tr>\n",
       "      <th>3</th>\n",
       "      <td>151.5</td>\n",
       "      <td>41.3</td>\n",
       "      <td>58.5</td>\n",
       "      <td>18.5</td>\n",
       "    </tr>\n",
       "    <tr>\n",
       "      <th>4</th>\n",
       "      <td>180.8</td>\n",
       "      <td>10.8</td>\n",
       "      <td>58.4</td>\n",
       "      <td>12.9</td>\n",
       "    </tr>\n",
       "  </tbody>\n",
       "</table>\n",
       "</div>"
      ],
      "text/plain": [
       "      TV  radio  newspaper  sales\n",
       "0  230.1   37.8       69.2   22.1\n",
       "1   44.5   39.3       45.1   10.4\n",
       "2   17.2   45.9       69.3    9.3\n",
       "3  151.5   41.3       58.5   18.5\n",
       "4  180.8   10.8       58.4   12.9"
      ]
     },
     "execution_count": 5,
     "metadata": {},
     "output_type": "execute_result"
    }
   ],
   "source": [
    "df.head()"
   ]
  },
  {
   "cell_type": "code",
   "execution_count": 6,
   "id": "e610740a",
   "metadata": {},
   "outputs": [],
   "source": [
    "X=df.drop('sales',axis=1)"
   ]
  },
  {
   "cell_type": "code",
   "execution_count": 7,
   "id": "9403ecb0",
   "metadata": {},
   "outputs": [
    {
     "data": {
      "text/html": [
       "<div>\n",
       "<style scoped>\n",
       "    .dataframe tbody tr th:only-of-type {\n",
       "        vertical-align: middle;\n",
       "    }\n",
       "\n",
       "    .dataframe tbody tr th {\n",
       "        vertical-align: top;\n",
       "    }\n",
       "\n",
       "    .dataframe thead th {\n",
       "        text-align: right;\n",
       "    }\n",
       "</style>\n",
       "<table border=\"1\" class=\"dataframe\">\n",
       "  <thead>\n",
       "    <tr style=\"text-align: right;\">\n",
       "      <th></th>\n",
       "      <th>TV</th>\n",
       "      <th>radio</th>\n",
       "      <th>newspaper</th>\n",
       "    </tr>\n",
       "  </thead>\n",
       "  <tbody>\n",
       "    <tr>\n",
       "      <th>0</th>\n",
       "      <td>230.1</td>\n",
       "      <td>37.8</td>\n",
       "      <td>69.2</td>\n",
       "    </tr>\n",
       "    <tr>\n",
       "      <th>1</th>\n",
       "      <td>44.5</td>\n",
       "      <td>39.3</td>\n",
       "      <td>45.1</td>\n",
       "    </tr>\n",
       "    <tr>\n",
       "      <th>2</th>\n",
       "      <td>17.2</td>\n",
       "      <td>45.9</td>\n",
       "      <td>69.3</td>\n",
       "    </tr>\n",
       "    <tr>\n",
       "      <th>3</th>\n",
       "      <td>151.5</td>\n",
       "      <td>41.3</td>\n",
       "      <td>58.5</td>\n",
       "    </tr>\n",
       "    <tr>\n",
       "      <th>4</th>\n",
       "      <td>180.8</td>\n",
       "      <td>10.8</td>\n",
       "      <td>58.4</td>\n",
       "    </tr>\n",
       "    <tr>\n",
       "      <th>...</th>\n",
       "      <td>...</td>\n",
       "      <td>...</td>\n",
       "      <td>...</td>\n",
       "    </tr>\n",
       "    <tr>\n",
       "      <th>195</th>\n",
       "      <td>38.2</td>\n",
       "      <td>3.7</td>\n",
       "      <td>13.8</td>\n",
       "    </tr>\n",
       "    <tr>\n",
       "      <th>196</th>\n",
       "      <td>94.2</td>\n",
       "      <td>4.9</td>\n",
       "      <td>8.1</td>\n",
       "    </tr>\n",
       "    <tr>\n",
       "      <th>197</th>\n",
       "      <td>177.0</td>\n",
       "      <td>9.3</td>\n",
       "      <td>6.4</td>\n",
       "    </tr>\n",
       "    <tr>\n",
       "      <th>198</th>\n",
       "      <td>283.6</td>\n",
       "      <td>42.0</td>\n",
       "      <td>66.2</td>\n",
       "    </tr>\n",
       "    <tr>\n",
       "      <th>199</th>\n",
       "      <td>232.1</td>\n",
       "      <td>8.6</td>\n",
       "      <td>8.7</td>\n",
       "    </tr>\n",
       "  </tbody>\n",
       "</table>\n",
       "<p>200 rows × 3 columns</p>\n",
       "</div>"
      ],
      "text/plain": [
       "        TV  radio  newspaper\n",
       "0    230.1   37.8       69.2\n",
       "1     44.5   39.3       45.1\n",
       "2     17.2   45.9       69.3\n",
       "3    151.5   41.3       58.5\n",
       "4    180.8   10.8       58.4\n",
       "..     ...    ...        ...\n",
       "195   38.2    3.7       13.8\n",
       "196   94.2    4.9        8.1\n",
       "197  177.0    9.3        6.4\n",
       "198  283.6   42.0       66.2\n",
       "199  232.1    8.6        8.7\n",
       "\n",
       "[200 rows x 3 columns]"
      ]
     },
     "execution_count": 7,
     "metadata": {},
     "output_type": "execute_result"
    }
   ],
   "source": [
    "X"
   ]
  },
  {
   "cell_type": "code",
   "execution_count": 8,
   "id": "f25661f4",
   "metadata": {},
   "outputs": [],
   "source": [
    "y=df['sales']"
   ]
  },
  {
   "cell_type": "code",
   "execution_count": 9,
   "id": "e3952c89",
   "metadata": {},
   "outputs": [
    {
     "data": {
      "text/plain": [
       "0      22.1\n",
       "1      10.4\n",
       "2       9.3\n",
       "3      18.5\n",
       "4      12.9\n",
       "       ... \n",
       "195     7.6\n",
       "196     9.7\n",
       "197    12.8\n",
       "198    25.5\n",
       "199    13.4\n",
       "Name: sales, Length: 200, dtype: float64"
      ]
     },
     "execution_count": 9,
     "metadata": {},
     "output_type": "execute_result"
    }
   ],
   "source": [
    "y"
   ]
  },
  {
   "cell_type": "code",
   "execution_count": 10,
   "id": "0fd19e6c",
   "metadata": {},
   "outputs": [],
   "source": [
    "from sklearn.preprocessing import PolynomialFeatures"
   ]
  },
  {
   "cell_type": "code",
   "execution_count": 11,
   "id": "d3d469fb",
   "metadata": {},
   "outputs": [],
   "source": [
    "polynomial_converter=PolynomialFeatures(degree=2,include_bias=False)\n",
    "# it will create interaction terms also like X1*X2"
   ]
  },
  {
   "cell_type": "code",
   "execution_count": 12,
   "id": "4eae8db1",
   "metadata": {},
   "outputs": [
    {
     "data": {
      "text/plain": [
       "PolynomialFeatures(include_bias=False)"
      ]
     },
     "execution_count": 12,
     "metadata": {},
     "output_type": "execute_result"
    }
   ],
   "source": [
    "polynomial_converter.fit(X)"
   ]
  },
  {
   "cell_type": "code",
   "execution_count": 13,
   "id": "80b105f7",
   "metadata": {},
   "outputs": [],
   "source": [
    "poly_features=polynomial_converter.transform(X)"
   ]
  },
  {
   "cell_type": "code",
   "execution_count": 14,
   "id": "4e0e0a89",
   "metadata": {},
   "outputs": [
    {
     "data": {
      "text/plain": [
       "(200, 9)"
      ]
     },
     "execution_count": 14,
     "metadata": {},
     "output_type": "execute_result"
    }
   ],
   "source": [
    "polynomial_converter.transform(X).shape"
   ]
  },
  {
   "cell_type": "code",
   "execution_count": 15,
   "id": "d64cba5c",
   "metadata": {},
   "outputs": [
    {
     "data": {
      "text/plain": [
       "(200, 3)"
      ]
     },
     "execution_count": 15,
     "metadata": {},
     "output_type": "execute_result"
    }
   ],
   "source": [
    "X.shape"
   ]
  },
  {
   "cell_type": "code",
   "execution_count": 16,
   "id": "e8c09373",
   "metadata": {},
   "outputs": [
    {
     "data": {
      "text/plain": [
       "TV           230.1\n",
       "radio         37.8\n",
       "newspaper     69.2\n",
       "Name: 0, dtype: float64"
      ]
     },
     "execution_count": 16,
     "metadata": {},
     "output_type": "execute_result"
    }
   ],
   "source": [
    "X.iloc[0]"
   ]
  },
  {
   "cell_type": "code",
   "execution_count": 17,
   "id": "9a2ee4c3",
   "metadata": {},
   "outputs": [
    {
     "data": {
      "text/plain": [
       "array([2.301000e+02, 3.780000e+01, 6.920000e+01, 5.294601e+04,\n",
       "       8.697780e+03, 1.592292e+04, 1.428840e+03, 2.615760e+03,\n",
       "       4.788640e+03])"
      ]
     },
     "execution_count": 17,
     "metadata": {},
     "output_type": "execute_result"
    }
   ],
   "source": [
    "poly_features[0]"
   ]
  },
  {
   "cell_type": "code",
   "execution_count": 18,
   "id": "cbb7b90d",
   "metadata": {},
   "outputs": [
    {
     "data": {
      "text/plain": [
       "array([[ 230.1 ,   37.8 ,   69.2 , ..., 1428.84, 2615.76, 4788.64],\n",
       "       [  44.5 ,   39.3 ,   45.1 , ..., 1544.49, 1772.43, 2034.01],\n",
       "       [  17.2 ,   45.9 ,   69.3 , ..., 2106.81, 3180.87, 4802.49],\n",
       "       ...,\n",
       "       [ 177.  ,    9.3 ,    6.4 , ...,   86.49,   59.52,   40.96],\n",
       "       [ 283.6 ,   42.  ,   66.2 , ..., 1764.  , 2780.4 , 4382.44],\n",
       "       [ 232.1 ,    8.6 ,    8.7 , ...,   73.96,   74.82,   75.69]])"
      ]
     },
     "execution_count": 18,
     "metadata": {},
     "output_type": "execute_result"
    }
   ],
   "source": [
    "polynomial_converter.fit_transform(X)"
   ]
  },
  {
   "cell_type": "code",
   "execution_count": 19,
   "id": "26ee29bc",
   "metadata": {},
   "outputs": [
    {
     "data": {
      "text/plain": [
       "(200, 9)"
      ]
     },
     "execution_count": 19,
     "metadata": {},
     "output_type": "execute_result"
    }
   ],
   "source": [
    "polynomial_converter.fit_transform(X).shape"
   ]
  },
  {
   "cell_type": "code",
   "execution_count": 20,
   "id": "c42b6468",
   "metadata": {},
   "outputs": [],
   "source": [
    "from sklearn.model_selection import train_test_split"
   ]
  },
  {
   "cell_type": "code",
   "execution_count": 34,
   "id": "b923ec59",
   "metadata": {},
   "outputs": [],
   "source": [
    "X_train, X_test, y_train, y_test = train_test_split(poly_features, y, test_size=0.3, random_state=101)"
   ]
  },
  {
   "cell_type": "code",
   "execution_count": 35,
   "id": "93350bf5",
   "metadata": {},
   "outputs": [],
   "source": [
    "from sklearn.linear_model import LinearRegression"
   ]
  },
  {
   "cell_type": "code",
   "execution_count": 36,
   "id": "2f139119",
   "metadata": {},
   "outputs": [],
   "source": [
    "model=LinearRegression()"
   ]
  },
  {
   "cell_type": "code",
   "execution_count": 37,
   "id": "e7ac64d4",
   "metadata": {},
   "outputs": [
    {
     "data": {
      "text/plain": [
       "LinearRegression()"
      ]
     },
     "execution_count": 37,
     "metadata": {},
     "output_type": "execute_result"
    }
   ],
   "source": [
    "model.fit(X_train,y_train)"
   ]
  },
  {
   "cell_type": "code",
   "execution_count": 38,
   "id": "5ef9867f",
   "metadata": {},
   "outputs": [],
   "source": [
    "test_prediction=model.predict(X_test)"
   ]
  },
  {
   "cell_type": "code",
   "execution_count": 39,
   "id": "a703ba2f",
   "metadata": {},
   "outputs": [
    {
     "data": {
      "text/plain": [
       "array([ 5.17095811e-02,  1.30848864e-02,  1.20000085e-02, -1.10892474e-04,\n",
       "        1.14212673e-03, -5.24100082e-05,  3.34919737e-05,  1.46380310e-04,\n",
       "       -3.04715806e-05])"
      ]
     },
     "execution_count": 39,
     "metadata": {},
     "output_type": "execute_result"
    }
   ],
   "source": [
    "model.coef_"
   ]
  },
  {
   "cell_type": "code",
   "execution_count": 40,
   "id": "f96c9d1c",
   "metadata": {},
   "outputs": [],
   "source": [
    "from sklearn.metrics import mean_absolute_error,mean_squared_error"
   ]
  },
  {
   "cell_type": "code",
   "execution_count": 41,
   "id": "3cfc2041",
   "metadata": {},
   "outputs": [],
   "source": [
    "MAE=mean_absolute_error(y_test,test_prediction)"
   ]
  },
  {
   "cell_type": "code",
   "execution_count": 42,
   "id": "1a3b02ba",
   "metadata": {},
   "outputs": [],
   "source": [
    "MSE=mean_squared_error(y_test,test_prediction)"
   ]
  },
  {
   "cell_type": "code",
   "execution_count": 43,
   "id": "0014c674",
   "metadata": {},
   "outputs": [],
   "source": [
    "RMSE=np.sqrt(MSE)"
   ]
  },
  {
   "cell_type": "code",
   "execution_count": 44,
   "id": "fcfe6c81",
   "metadata": {},
   "outputs": [
    {
     "data": {
      "text/plain": [
       "0.48967980448037"
      ]
     },
     "execution_count": 44,
     "metadata": {},
     "output_type": "execute_result"
    }
   ],
   "source": [
    "MAE"
   ]
  },
  {
   "cell_type": "code",
   "execution_count": 45,
   "id": "f31a7602",
   "metadata": {},
   "outputs": [
    {
     "data": {
      "text/plain": [
       "0.6646431757269196"
      ]
     },
     "execution_count": 45,
     "metadata": {},
     "output_type": "execute_result"
    }
   ],
   "source": [
    "RMSE"
   ]
  },
  {
   "cell_type": "code",
   "execution_count": 46,
   "id": "291c8fed",
   "metadata": {},
   "outputs": [],
   "source": [
    "# Performing better than liner regression \n",
    "# We should consider polynomial features"
   ]
  },
  {
   "cell_type": "code",
   "execution_count": 47,
   "id": "c09e804e",
   "metadata": {},
   "outputs": [
    {
     "data": {
      "text/plain": [
       "array([2.301000e+02, 3.780000e+01, 6.920000e+01, 5.294601e+04,\n",
       "       8.697780e+03, 1.592292e+04, 1.428840e+03, 2.615760e+03,\n",
       "       4.788640e+03])"
      ]
     },
     "execution_count": 47,
     "metadata": {},
     "output_type": "execute_result"
    }
   ],
   "source": [
    "poly_features[0]"
   ]
  },
  {
   "cell_type": "code",
   "execution_count": 49,
   "id": "54a3a1d3",
   "metadata": {},
   "outputs": [
    {
     "data": {
      "text/plain": [
       "TV           230.1\n",
       "radio         37.8\n",
       "newspaper     69.2\n",
       "Name: 0, dtype: float64"
      ]
     },
     "execution_count": 49,
     "metadata": {},
     "output_type": "execute_result"
    }
   ],
   "source": [
    "X.iloc[0]"
   ]
  },
  {
   "cell_type": "code",
   "execution_count": 50,
   "id": "fb1c1857",
   "metadata": {},
   "outputs": [
    {
     "data": {
      "text/plain": [
       "array([ 5.17095811e-02,  1.30848864e-02,  1.20000085e-02, -1.10892474e-04,\n",
       "        1.14212673e-03, -5.24100082e-05,  3.34919737e-05,  1.46380310e-04,\n",
       "       -3.04715806e-05])"
      ]
     },
     "execution_count": 50,
     "metadata": {},
     "output_type": "execute_result"
    }
   ],
   "source": [
    "model.coef_"
   ]
  },
  {
   "cell_type": "code",
   "execution_count": 51,
   "id": "a54714db",
   "metadata": {},
   "outputs": [
    {
     "data": {
      "text/plain": [
       "4788.64"
      ]
     },
     "execution_count": 51,
     "metadata": {},
     "output_type": "execute_result"
    }
   ],
   "source": [
    "# -3.04715806e-05\n",
    "69.2**2"
   ]
  },
  {
   "cell_type": "markdown",
   "id": "02796146",
   "metadata": {},
   "source": [
    "### How to choose best model parameter or decide the deree of polynomial"
   ]
  },
  {
   "cell_type": "code",
   "execution_count": 53,
   "id": "5c269f4c",
   "metadata": {},
   "outputs": [],
   "source": [
    "# Bias-Variance Trade Off\n",
    "# Overfitting or underfitting\n",
    "# Hogher order polynomial model performs better than linear model\n",
    "# Increase model complexity for better performance\n",
    "# Generalise well for unseen data and account variance and pattern in the known data"
   ]
  },
  {
   "cell_type": "code",
   "execution_count": 54,
   "id": "9626e613",
   "metadata": {},
   "outputs": [],
   "source": [
    "# Underfits(high bias,low variance),[simple model]does not understand the underlying trend and does not fit\n",
    "# overfits(high variance) too much noise-low error on training set but high on test set\n",
    "# overfitting could mislead you as it gives high performance on test data"
   ]
  },
  {
   "cell_type": "code",
   "execution_count": 55,
   "id": "ac10f22c",
   "metadata": {},
   "outputs": [],
   "source": [
    "# Good model- model complexity more less error\n",
    "# as we increase degree of polynomial the error goes down\n",
    "# Bad model-vice versa"
   ]
  },
  {
   "cell_type": "code",
   "execution_count": 56,
   "id": "9a9d22e6",
   "metadata": {},
   "outputs": [],
   "source": [
    "# Test model performance on test set train set\n",
    "# Error vs model complexity(On train and test set)"
   ]
  },
  {
   "cell_type": "code",
   "execution_count": 57,
   "id": "c6c88a23",
   "metadata": {},
   "outputs": [],
   "source": [
    "# optimal polynomial degree"
   ]
  },
  {
   "cell_type": "code",
   "execution_count": 58,
   "id": "3906fe81",
   "metadata": {},
   "outputs": [],
   "source": [
    "# Create different order polynomial\n",
    "# Split train/test\n",
    "# fit on train\n",
    "# stor the rmse for both train and test\n",
    "# plot the result error vs ploynomial degree"
   ]
  },
  {
   "cell_type": "code",
   "execution_count": 60,
   "id": "6c473f00",
   "metadata": {},
   "outputs": [],
   "source": [
    "train_rmse_errors=[]\n",
    "test_rmse_errors=[]\n",
    "for d in range(1,10):\n",
    "    poly_converter=PolynomialFeatures(degree=d,include_bias=False)\n",
    "    poly_features=poly_converter.fit_transform(X)\n",
    "    X_train, X_test, y_train, y_test = train_test_split(poly_features, y, test_size=0.3, random_state=101)\n",
    "    model=LinearRegression()\n",
    "    model.fit(X_train,y_train)\n",
    "    train_pred=model.predict(X_train)\n",
    "    test_pred=model.predict(X_test)\n",
    "    train_rmse=np.sqrt(mean_squared_error(y_train,train_pred))\n",
    "    test_rmse=np.sqrt(mean_squared_error(y_test,test_pred))\n",
    "    train_rmse_errors.append(train_rmse)\n",
    "    test_rmse_errors.append(test_rmse)"
   ]
  },
  {
   "cell_type": "code",
   "execution_count": 61,
   "id": "3845bcf8",
   "metadata": {},
   "outputs": [
    {
     "data": {
      "text/plain": [
       "[1.734594124329376,\n",
       " 0.5879574085292233,\n",
       " 0.4339344356902067,\n",
       " 0.35170836883993495,\n",
       " 0.2509342951990972,\n",
       " 0.1971254009841768,\n",
       " 5.421422348088463,\n",
       " 0.1426544837726474,\n",
       " 0.16675345956185658]"
      ]
     },
     "execution_count": 61,
     "metadata": {},
     "output_type": "execute_result"
    }
   ],
   "source": [
    "# some spike is there which is a  red flag as error increase on higher degree\n",
    "train_rmse_errors"
   ]
  },
  {
   "cell_type": "code",
   "execution_count": 62,
   "id": "da9b6d61",
   "metadata": {},
   "outputs": [
    {
     "data": {
      "text/plain": [
       "[1.5161519375993873,\n",
       " 0.6646431757269196,\n",
       " 0.5803286825231453,\n",
       " 0.5077742623872589,\n",
       " 2.5758247707699113,\n",
       " 4.492670773896812,\n",
       " 1381.4040685804796,\n",
       " 4449.568027403435,\n",
       " 95893.02658330933]"
      ]
     },
     "execution_count": 62,
     "metadata": {},
     "output_type": "execute_result"
    }
   ],
   "source": [
    "# after some high degree it starts exploding\n",
    "test_rmse_errors"
   ]
  },
  {
   "cell_type": "code",
   "execution_count": 65,
   "id": "e75bfdeb",
   "metadata": {},
   "outputs": [
    {
     "data": {
      "text/plain": [
       "<matplotlib.legend.Legend at 0x1b873be92e0>"
      ]
     },
     "execution_count": 65,
     "metadata": {},
     "output_type": "execute_result"
    },
    {
     "data": {
      "image/png": "[encoded data removed]",
      "text/plain": [
       "<Figure size 432x288 with 1 Axes>"
      ]
     },
     "metadata": {
      "needs_background": "light"
     },
     "output_type": "display_data"
    }
   ],
   "source": [
    "plt.plot(range(1,6),train_rmse_errors[:5],label='Train RMSE')\n",
    "plt.plot(range(1,6),test_rmse_errors[:5],label='Test RMSE')\n",
    "plt.ylabel('RMSE')\n",
    "plt.xlabel('Degree of poly')\n",
    "plt.legend()\n",
    "# around 4th degree it shoots\n",
    "# as it has 3 features so no need to go till 10"
   ]
  },
  {
   "cell_type": "code",
   "execution_count": 67,
   "id": "0c8e3e6f",
   "metadata": {},
   "outputs": [
    {
     "data": {
      "text/plain": [
       "<matplotlib.legend.Legend at 0x1b873178700>"
      ]
     },
     "execution_count": 67,
     "metadata": {},
     "output_type": "execute_result"
    },
    {
     "data": {
      "image/png": "[encoded data removed]",
      "text/plain": [
       "<Figure size 432x288 with 1 Axes>"
      ]
     },
     "metadata": {
      "needs_background": "light"
     },
     "output_type": "display_data"
    }
   ],
   "source": [
    "# Overfit of train data\n",
    "plt.plot(range(1,10),train_rmse_errors,label='Train RMSE')\n",
    "plt.plot(range(1,10),test_rmse_errors,label='Test RMSE')\n",
    "plt.ylabel('RMSE')\n",
    "plt.xlabel('Degree of poly')\n",
    "plt.legend()"
   ]
  },
  {
   "cell_type": "code",
   "execution_count": 68,
   "id": "d95564c7",
   "metadata": {},
   "outputs": [
    {
     "data": {
      "text/plain": [
       "<matplotlib.legend.Legend at 0x1b8760cf880>"
      ]
     },
     "execution_count": 68,
     "metadata": {},
     "output_type": "execute_result"
    },
    {
     "data": {
      "image/png": "[encoded data removed]",
      "text/plain": [
       "<Figure size 432x288 with 1 Axes>"
      ]
     },
     "metadata": {
      "needs_background": "light"
     },
     "output_type": "display_data"
    }
   ],
   "source": [
    "# Degree 4 is better than degree 3 as it has three features\n",
    "# because the error for train and test both decreases\n",
    "# but we will take degree 3 as there is arisk of overshooting\n",
    "plt.plot(range(1,5),train_rmse_errors[:4],label='Train RMSE')\n",
    "plt.plot(range(1,5),test_rmse_errors[:4],label='Test RMSE')\n",
    "plt.ylabel('RMSE')\n",
    "plt.xlabel('Degree of poly')\n",
    "plt.legend()"
   ]
  },
  {
   "cell_type": "code",
   "execution_count": 69,
   "id": "a3e2af7d",
   "metadata": {},
   "outputs": [],
   "source": [
    "final_poly_converter=PolynomialFeatures(degree=3,include_bias=False)"
   ]
  },
  {
   "cell_type": "code",
   "execution_count": 70,
   "id": "49f62eb6",
   "metadata": {},
   "outputs": [],
   "source": [
    "final_model=LinearRegression()"
   ]
  },
  {
   "cell_type": "code",
   "execution_count": 71,
   "id": "dd28b20f",
   "metadata": {},
   "outputs": [
    {
     "data": {
      "text/plain": [
       "LinearRegression()"
      ]
     },
     "execution_count": 71,
     "metadata": {},
     "output_type": "execute_result"
    }
   ],
   "source": [
    "full_converted_X=final_poly_converter.fit_transform(X)\n",
    "final_model.fit(full_converted_X,y)"
   ]
  },
  {
   "cell_type": "code",
   "execution_count": 72,
   "id": "38c6720a",
   "metadata": {},
   "outputs": [],
   "source": [
    "from joblib import dump,load"
   ]
  },
  {
   "cell_type": "code",
   "execution_count": 73,
   "id": "5e90a20d",
   "metadata": {},
   "outputs": [
    {
     "data": {
      "text/plain": [
       "['final_poly_model.joblib']"
      ]
     },
     "execution_count": 73,
     "metadata": {},
     "output_type": "execute_result"
    }
   ],
   "source": [
    "dump(final_model,'final_poly_model.joblib')"
   ]
  },
  {
   "cell_type": "code",
   "execution_count": 74,
   "id": "9e46d40b",
   "metadata": {},
   "outputs": [
    {
     "data": {
      "text/plain": [
       "['final_poly_converter.joblib']"
      ]
     },
     "execution_count": 74,
     "metadata": {},
     "output_type": "execute_result"
    }
   ],
   "source": [
    "dump(final_poly_converter,'final_poly_converter.joblib')"
   ]
  },
  {
   "cell_type": "code",
   "execution_count": 75,
   "id": "21a4e419",
   "metadata": {},
   "outputs": [
    {
     "name": "stderr",
     "output_type": "stream",
     "text": [
      "C:\\Users\\rajsh\\anaconda3\\lib\\site-packages\\sklearn\\base.py:310: UserWarning: Trying to unpickle estimator PolynomialFeatures from version 0.23.2 when using version 0.24.2. This might lead to breaking code or invalid results. Use at your own risk.\n",
      "  warnings.warn(\n"
     ]
    }
   ],
   "source": [
    "loaded_converter=load('final_converter.joblib')"
   ]
  },
  {
   "cell_type": "code",
   "execution_count": 76,
   "id": "cfcd6a2c",
   "metadata": {},
   "outputs": [],
   "source": [
    "loaded_model=load('final_poly_model.joblib')"
   ]
  },
  {
   "cell_type": "code",
   "execution_count": 77,
   "id": "9c7d2d4e",
   "metadata": {},
   "outputs": [],
   "source": [
    "campaign=([[149,22,12]])"
   ]
  },
  {
   "cell_type": "code",
   "execution_count": 81,
   "id": "852be76e",
   "metadata": {},
   "outputs": [],
   "source": [
    "transformed_data=loaded_converter.fit_transform(campaign)"
   ]
  },
  {
   "cell_type": "code",
   "execution_count": 80,
   "id": "047cad2e",
   "metadata": {},
   "outputs": [],
   "source": [
    "loaded_converter.fit_transform(campaign).shape"
   ]
  },
  {
   "cell_type": "code",
   "execution_count": 82,
   "id": "2818a708",
   "metadata": {},
   "outputs": [
    {
     "data": {
      "text/plain": [
       "array([14.64501014])"
      ]
     },
     "execution_count": 82,
     "metadata": {},
     "output_type": "execute_result"
    }
   ],
   "source": [
    "loaded_model.predict(transformed_data)"
   ]
  },
  {
   "cell_type": "code",
   "execution_count": 83,
   "id": "400d97d5",
   "metadata": {},
   "outputs": [],
   "source": [
    "# Is more accurate and gives more sales than linear regression"
   ]
  },
  {
   "cell_type": "markdown",
   "id": "c83e72a1",
   "metadata": {},
   "source": [
    "### Regularisation\n"
   ]
  },
  {
   "cell_type": "code",
   "execution_count": 84,
   "id": "3f839ced",
   "metadata": {},
   "outputs": [],
   "source": [
    "# Reduce model overfitting\n",
    "# all about adding penalty hyper parameters\n",
    "# L1(LASSO) add a penalty equal to absolute magnitude of coefficients\n",
    "# Limit size of coefficients\n",
    "# L2(Ridge)-add penalty equal to square of magnitude of coeff to the error we are trying to minimize\n",
    "# Lamba decide the strength of penalty\n",
    "# Elastic net L1 and L2 if alpha is 0 the l1 is not used and if it is one l2 is not used as it gets cancelled\n"
   ]
  },
  {
   "cell_type": "code",
   "execution_count": 85,
   "id": "0dd5c875",
   "metadata": {},
   "outputs": [],
   "source": [
    "# Feature scaling\n",
    "# KNN which depnds on distance is beniffited more\n",
    "# Gradient descent in different scales,some features will update much faster then other\n",
    "# To perform it optimally\n",
    "# No need in decision tree,regression tree or random forest\n",
    "# also have to scale the new values"
   ]
  },
  {
   "cell_type": "code",
   "execution_count": 86,
   "id": "b0412706",
   "metadata": {},
   "outputs": [],
   "source": [
    "# 1.Standardiszation-mean of 0 and std of 1 'Z-score normalization'\n",
    "# 2.Normalization rescales values between 0-1(using min and max value)\n",
    "# .fit() only on train set as it gives min and max or mean ,std for normalization\n",
    "# otherwise if we call on full data it will leak some information from test data\n",
    "# Do we need to scale label?No it's not advised"
   ]
  },
  {
   "cell_type": "code",
   "execution_count": 87,
   "id": "d6734e97",
   "metadata": {},
   "outputs": [],
   "source": [
    "# Cross validation\n",
    "# Train on all data and evaluate on data\n",
    "# k for train and 1/k(10%)test\n",
    "# do it individually and calculate k error and its mean for getting high performance\n",
    "# k=to number of row"
   ]
  },
  {
   "cell_type": "code",
   "execution_count": 88,
   "id": "b2848a31",
   "metadata": {},
   "outputs": [],
   "source": [
    "# hold out test set which won't be tuned\n",
    "# and do k-fold cross validation train test split and tune it\n",
    "# then do final evaluation on hold out final test\n",
    "# Then generate a true final performance matrx"
   ]
  },
  {
   "cell_type": "code",
   "execution_count": 89,
   "id": "1eb7511a",
   "metadata": {},
   "outputs": [],
   "source": [
    "# Train,validation hold out test set"
   ]
  },
  {
   "cell_type": "code",
   "execution_count": 90,
   "id": "70a862ea",
   "metadata": {},
   "outputs": [],
   "source": [
    "# Regularisation Data setup"
   ]
  },
  {
   "cell_type": "code",
   "execution_count": 92,
   "id": "d5a52b9b",
   "metadata": {},
   "outputs": [
    {
     "data": {
      "text/html": [
       "<div>\n",
       "<style scoped>\n",
       "    .dataframe tbody tr th:only-of-type {\n",
       "        vertical-align: middle;\n",
       "    }\n",
       "\n",
       "    .dataframe tbody tr th {\n",
       "        vertical-align: top;\n",
       "    }\n",
       "\n",
       "    .dataframe thead th {\n",
       "        text-align: right;\n",
       "    }\n",
       "</style>\n",
       "<table border=\"1\" class=\"dataframe\">\n",
       "  <thead>\n",
       "    <tr style=\"text-align: right;\">\n",
       "      <th></th>\n",
       "      <th>TV</th>\n",
       "      <th>radio</th>\n",
       "      <th>newspaper</th>\n",
       "      <th>sales</th>\n",
       "    </tr>\n",
       "  </thead>\n",
       "  <tbody>\n",
       "    <tr>\n",
       "      <th>0</th>\n",
       "      <td>230.1</td>\n",
       "      <td>37.8</td>\n",
       "      <td>69.2</td>\n",
       "      <td>22.1</td>\n",
       "    </tr>\n",
       "    <tr>\n",
       "      <th>1</th>\n",
       "      <td>44.5</td>\n",
       "      <td>39.3</td>\n",
       "      <td>45.1</td>\n",
       "      <td>10.4</td>\n",
       "    </tr>\n",
       "    <tr>\n",
       "      <th>2</th>\n",
       "      <td>17.2</td>\n",
       "      <td>45.9</td>\n",
       "      <td>69.3</td>\n",
       "      <td>9.3</td>\n",
       "    </tr>\n",
       "    <tr>\n",
       "      <th>3</th>\n",
       "      <td>151.5</td>\n",
       "      <td>41.3</td>\n",
       "      <td>58.5</td>\n",
       "      <td>18.5</td>\n",
       "    </tr>\n",
       "    <tr>\n",
       "      <th>4</th>\n",
       "      <td>180.8</td>\n",
       "      <td>10.8</td>\n",
       "      <td>58.4</td>\n",
       "      <td>12.9</td>\n",
       "    </tr>\n",
       "  </tbody>\n",
       "</table>\n",
       "</div>"
      ],
      "text/plain": [
       "      TV  radio  newspaper  sales\n",
       "0  230.1   37.8       69.2   22.1\n",
       "1   44.5   39.3       45.1   10.4\n",
       "2   17.2   45.9       69.3    9.3\n",
       "3  151.5   41.3       58.5   18.5\n",
       "4  180.8   10.8       58.4   12.9"
      ]
     },
     "execution_count": 92,
     "metadata": {},
     "output_type": "execute_result"
    }
   ],
   "source": [
    "df.head()"
   ]
  },
  {
   "cell_type": "code",
   "execution_count": 117,
   "id": "d8d99452",
   "metadata": {},
   "outputs": [],
   "source": [
    "X=df.drop('sales',axis=1)"
   ]
  },
  {
   "cell_type": "code",
   "execution_count": 119,
   "id": "99185edd",
   "metadata": {},
   "outputs": [],
   "source": [
    "y=df['sales']"
   ]
  },
  {
   "cell_type": "code",
   "execution_count": 120,
   "id": "83df477e",
   "metadata": {},
   "outputs": [],
   "source": [
    "polynomial_convert=PolynomialFeatures(degree=3,include_bias=False)"
   ]
  },
  {
   "cell_type": "code",
   "execution_count": 125,
   "id": "b8a309db",
   "metadata": {},
   "outputs": [],
   "source": [
    "poly_featur=polynomial_converter.fit_transform(X)"
   ]
  },
  {
   "cell_type": "code",
   "execution_count": 126,
   "id": "1a8fb33b",
   "metadata": {},
   "outputs": [
    {
     "data": {
      "text/plain": [
       "(200, 19)"
      ]
     },
     "execution_count": 126,
     "metadata": {},
     "output_type": "execute_result"
    }
   ],
   "source": [
    "poly_featur.shape"
   ]
  },
  {
   "cell_type": "code",
   "execution_count": 127,
   "id": "36158c87",
   "metadata": {},
   "outputs": [],
   "source": [
    "X_train, X_test, y_train, y_test = train_test_split(poly_features, y, test_size=0.3, random_state=101)"
   ]
  },
  {
   "cell_type": "code",
   "execution_count": 128,
   "id": "d5e4be98",
   "metadata": {},
   "outputs": [
    {
     "data": {
      "text/plain": [
       "array([[1.93200000e+02, 1.84000000e+01, 6.57000000e+01, ...,\n",
       "        1.78892953e+15, 6.38764511e+15, 2.28080589e+16],\n",
       "       [2.87600000e+02, 4.30000000e+01, 7.18000000e+01, ...,\n",
       "        1.81889664e+16, 3.03713439e+16, 5.07130812e+16],\n",
       "       [8.02000000e+01, 0.00000000e+00, 9.20000000e+00, ...,\n",
       "        0.00000000e+00, 0.00000000e+00, 4.72161363e+08],\n",
       "       ...,\n",
       "       [2.39800000e+02, 4.10000000e+00, 3.69000000e+01, ...,\n",
       "        1.56585764e+12, 1.40927188e+13, 1.26834469e+14],\n",
       "       [2.14700000e+02, 2.40000000e+01, 4.00000000e+00, ...,\n",
       "        9.43718400e+06, 1.57286400e+06, 2.62144000e+05],\n",
       "       [1.63300000e+02, 3.16000000e+01, 5.29000000e+01, ...,\n",
       "        1.15761426e+15, 1.93790489e+15, 3.24415091e+15]])"
      ]
     },
     "execution_count": 128,
     "metadata": {},
     "output_type": "execute_result"
    }
   ],
   "source": [
    "X_train"
   ]
  },
  {
   "cell_type": "code",
   "execution_count": 129,
   "id": "ab6da2a0",
   "metadata": {},
   "outputs": [],
   "source": [
    "from sklearn.preprocessing import StandardScaler"
   ]
  },
  {
   "cell_type": "code",
   "execution_count": 131,
   "id": "b8db3409",
   "metadata": {},
   "outputs": [],
   "source": [
    "scaler=StandardScaler()"
   ]
  },
  {
   "cell_type": "code",
   "execution_count": 132,
   "id": "a24f66f8",
   "metadata": {},
   "outputs": [
    {
     "data": {
      "text/plain": [
       "StandardScaler()"
      ]
     },
     "execution_count": 132,
     "metadata": {},
     "output_type": "execute_result"
    }
   ],
   "source": [
    "scaler.fit(X_train)"
   ]
  },
  {
   "cell_type": "code",
   "execution_count": 133,
   "id": "1ecc1ef4",
   "metadata": {},
   "outputs": [],
   "source": [
    "X_train=scaler.transform(X_train)"
   ]
  },
  {
   "cell_type": "code",
   "execution_count": 134,
   "id": "1cca792f",
   "metadata": {},
   "outputs": [],
   "source": [
    "X_test=scaler.transform(X_test)"
   ]
  },
  {
   "cell_type": "code",
   "execution_count": 138,
   "id": "548ae364",
   "metadata": {},
   "outputs": [
    {
     "data": {
      "text/plain": [
       "array([[ 0.49300171, -0.33994238,  1.61586707, ..., -0.08048775,\n",
       "        -0.00351656,  0.06313894],\n",
       "       [ 1.61337153,  1.32852213,  1.90079242, ...,  1.05971619,\n",
       "         0.65122552,  0.34632933],\n",
       "       [-0.84811893, -1.58789957, -1.02319564, ..., -0.20486213,\n",
       "        -0.17789584, -0.16832559],\n",
       "       ...,\n",
       "       [ 1.04606563, -1.30982215,  0.27064572, ..., -0.20475327,\n",
       "        -0.17751111, -0.16703844],\n",
       "       [ 0.74817069,  0.03987068, -1.26608283, ..., -0.20486213,\n",
       "        -0.17789584, -0.1683256 ],\n",
       "       [ 0.13813882,  0.55533126,  1.01799092, ..., -0.12437961,\n",
       "        -0.12499207, -0.13540277]])"
      ]
     },
     "execution_count": 138,
     "metadata": {},
     "output_type": "execute_result"
    }
   ],
   "source": [
    "X_train"
   ]
  },
  {
   "cell_type": "code",
   "execution_count": 136,
   "id": "6a6f19d4",
   "metadata": {},
   "outputs": [
    {
     "data": {
      "text/plain": [
       "array([[-0.91339472,  1.76259419,  0.68168558, ..., -0.13422956,\n",
       "        -0.15223855, -0.15950208],\n",
       "       [ 1.23121149,  0.23655959, -1.19601922, ..., -0.20486213,\n",
       "        -0.17789584, -0.1683256 ],\n",
       "       [-0.46002473, -0.40776614,  0.35005115, ..., -0.20217464,\n",
       "        -0.17555483, -0.16639504],\n",
       "       ...,\n",
       "       [-1.33115973,  1.19965698, -1.18200649, ..., -0.20486211,\n",
       "        -0.17789583, -0.1683256 ],\n",
       "       [ 1.3522684 , -0.23142436, -1.4389064 , ..., -0.20486213,\n",
       "        -0.17789584, -0.1683256 ],\n",
       "       [ 0.27818504, -0.06186496,  0.01841672, ..., -0.20377901,\n",
       "        -0.17730042, -0.16801572]])"
      ]
     },
     "execution_count": 136,
     "metadata": {},
     "output_type": "execute_result"
    }
   ],
   "source": [
    "X_test"
   ]
  },
  {
   "cell_type": "code",
   "execution_count": 139,
   "id": "5209fa23",
   "metadata": {},
   "outputs": [],
   "source": [
    "# Ridge regression\n",
    "# Why to add penalty while minising error\n",
    "# We are trying not to overfit the data\n",
    "# Introduce bias to reduce variance and not overfit to data and help generalizing\n",
    "# As if we try reduce to Beta coeff and beta square coeff lower slope and less steep\n",
    "# not jumping more fast and we have more space to handle the data \n",
    "# We'll give range of lambda and then choose which gives best performance matrix\n",
    "# lambda is alpha\n",
    "# calculate negative rmse\n",
    "# So higher the score the better it is"
   ]
  },
  {
   "cell_type": "code",
   "execution_count": 140,
   "id": "344efb0d",
   "metadata": {},
   "outputs": [],
   "source": [
    "from sklearn.linear_model import Ridge"
   ]
  },
  {
   "cell_type": "code",
   "execution_count": 141,
   "id": "eda02b66",
   "metadata": {},
   "outputs": [
    {
     "name": "stdout",
     "output_type": "stream",
     "text": [
      "Help on class Ridge in module sklearn.linear_model._ridge:\n",
      "\n",
      "class Ridge(sklearn.base.MultiOutputMixin, sklearn.base.RegressorMixin, _BaseRidge)\n",
      " |  Ridge(alpha=1.0, *, fit_intercept=True, normalize=False, copy_X=True, max_iter=None, tol=0.001, solver='auto', random_state=None)\n",
      " |  \n",
      " |  Linear least squares with l2 regularization.\n",
      " |  \n",
      " |  Minimizes the objective function::\n",
      " |  \n",
      " |  ||y - Xw||^2_2 + alpha * ||w||^2_2\n",
      " |  \n",
      " |  This model solves a regression model where the loss function is\n",
      " |  the linear least squares function and regularization is given by\n",
      " |  the l2-norm. Also known as Ridge Regression or Tikhonov regularization.\n",
      " |  This estimator has built-in support for multi-variate regression\n",
      " |  (i.e., when y is a 2d-array of shape (n_samples, n_targets)).\n",
      " |  \n",
      " |  Read more in the :ref:`User Guide <ridge_regression>`.\n",
      " |  \n",
      " |  Parameters\n",
      " |  ----------\n",
      " |  alpha : {float, ndarray of shape (n_targets,)}, default=1.0\n",
      " |      Regularization strength; must be a positive float. Regularization\n",
      " |      improves the conditioning of the problem and reduces the variance of\n",
      " |      the estimates. Larger values specify stronger regularization.\n",
      " |      Alpha corresponds to ``1 / (2C)`` in other linear models such as\n",
      " |      :class:`~sklearn.linear_model.LogisticRegression` or\n",
      " |      :class:`~sklearn.svm.LinearSVC`. If an array is passed, penalties are\n",
      " |      assumed to be specific to the targets. Hence they must correspond in\n",
      " |      number.\n",
      " |  \n",
      " |  fit_intercept : bool, default=True\n",
      " |      Whether to fit the intercept for this model. If set\n",
      " |      to false, no intercept will be used in calculations\n",
      " |      (i.e. ``X`` and ``y`` are expected to be centered).\n",
      " |  \n",
      " |  normalize : bool, default=False\n",
      " |      This parameter is ignored when ``fit_intercept`` is set to False.\n",
      " |      If True, the regressors X will be normalized before regression by\n",
      " |      subtracting the mean and dividing by the l2-norm.\n",
      " |      If you wish to standardize, please use\n",
      " |      :class:`~sklearn.preprocessing.StandardScaler` before calling ``fit``\n",
      " |      on an estimator with ``normalize=False``.\n",
      " |  \n",
      " |  copy_X : bool, default=True\n",
      " |      If True, X will be copied; else, it may be overwritten.\n",
      " |  \n",
      " |  max_iter : int, default=None\n",
      " |      Maximum number of iterations for conjugate gradient solver.\n",
      " |      For 'sparse_cg' and 'lsqr' solvers, the default value is determined\n",
      " |      by scipy.sparse.linalg. For 'sag' solver, the default value is 1000.\n",
      " |  \n",
      " |  tol : float, default=1e-3\n",
      " |      Precision of the solution.\n",
      " |  \n",
      " |  solver : {'auto', 'svd', 'cholesky', 'lsqr', 'sparse_cg', 'sag', 'saga'},         default='auto'\n",
      " |      Solver to use in the computational routines:\n",
      " |  \n",
      " |      - 'auto' chooses the solver automatically based on the type of data.\n",
      " |  \n",
      " |      - 'svd' uses a Singular Value Decomposition of X to compute the Ridge\n",
      " |        coefficients. More stable for singular matrices than 'cholesky'.\n",
      " |  \n",
      " |      - 'cholesky' uses the standard scipy.linalg.solve function to\n",
      " |        obtain a closed-form solution.\n",
      " |  \n",
      " |      - 'sparse_cg' uses the conjugate gradient solver as found in\n",
      " |        scipy.sparse.linalg.cg. As an iterative algorithm, this solver is\n",
      " |        more appropriate than 'cholesky' for large-scale data\n",
      " |        (possibility to set `tol` and `max_iter`).\n",
      " |  \n",
      " |      - 'lsqr' uses the dedicated regularized least-squares routine\n",
      " |        scipy.sparse.linalg.lsqr. It is the fastest and uses an iterative\n",
      " |        procedure.\n",
      " |  \n",
      " |      - 'sag' uses a Stochastic Average Gradient descent, and 'saga' uses\n",
      " |        its improved, unbiased version named SAGA. Both methods also use an\n",
      " |        iterative procedure, and are often faster than other solvers when\n",
      " |        both n_samples and n_features are large. Note that 'sag' and\n",
      " |        'saga' fast convergence is only guaranteed on features with\n",
      " |        approximately the same scale. You can preprocess the data with a\n",
      " |        scaler from sklearn.preprocessing.\n",
      " |  \n",
      " |      All last five solvers support both dense and sparse data. However, only\n",
      " |      'sag' and 'sparse_cg' supports sparse input when `fit_intercept` is\n",
      " |      True.\n",
      " |  \n",
      " |      .. versionadded:: 0.17\n",
      " |         Stochastic Average Gradient descent solver.\n",
      " |      .. versionadded:: 0.19\n",
      " |         SAGA solver.\n",
      " |  \n",
      " |  random_state : int, RandomState instance, default=None\n",
      " |      Used when ``solver`` == 'sag' or 'saga' to shuffle the data.\n",
      " |      See :term:`Glossary <random_state>` for details.\n",
      " |  \n",
      " |      .. versionadded:: 0.17\n",
      " |         `random_state` to support Stochastic Average Gradient.\n",
      " |  \n",
      " |  Attributes\n",
      " |  ----------\n",
      " |  coef_ : ndarray of shape (n_features,) or (n_targets, n_features)\n",
      " |      Weight vector(s).\n",
      " |  \n",
      " |  intercept_ : float or ndarray of shape (n_targets,)\n",
      " |      Independent term in decision function. Set to 0.0 if\n",
      " |      ``fit_intercept = False``.\n",
      " |  \n",
      " |  n_iter_ : None or ndarray of shape (n_targets,)\n",
      " |      Actual number of iterations for each target. Available only for\n",
      " |      sag and lsqr solvers. Other solvers will return None.\n",
      " |  \n",
      " |      .. versionadded:: 0.17\n",
      " |  \n",
      " |  See Also\n",
      " |  --------\n",
      " |  RidgeClassifier : Ridge classifier.\n",
      " |  RidgeCV : Ridge regression with built-in cross validation.\n",
      " |  :class:`~sklearn.kernel_ridge.KernelRidge` : Kernel ridge regression\n",
      " |      combines ridge regression with the kernel trick.\n",
      " |  \n",
      " |  Examples\n",
      " |  --------\n",
      " |  >>> from sklearn.linear_model import Ridge\n",
      " |  >>> import numpy as np\n",
      " |  >>> n_samples, n_features = 10, 5\n",
      " |  >>> rng = np.random.RandomState(0)\n",
      " |  >>> y = rng.randn(n_samples)\n",
      " |  >>> X = rng.randn(n_samples, n_features)\n",
      " |  >>> clf = Ridge(alpha=1.0)\n",
      " |  >>> clf.fit(X, y)\n",
      " |  Ridge()\n",
      " |  \n",
      " |  Method resolution order:\n",
      " |      Ridge\n",
      " |      sklearn.base.MultiOutputMixin\n",
      " |      sklearn.base.RegressorMixin\n",
      " |      _BaseRidge\n",
      " |      sklearn.linear_model._base.LinearModel\n",
      " |      sklearn.base.BaseEstimator\n",
      " |      builtins.object\n",
      " |  \n",
      " |  Methods defined here:\n",
      " |  \n",
      " |  __init__(self, alpha=1.0, *, fit_intercept=True, normalize=False, copy_X=True, max_iter=None, tol=0.001, solver='auto', random_state=None)\n",
      " |      Initialize self.  See help(type(self)) for accurate signature.\n",
      " |  \n",
      " |  fit(self, X, y, sample_weight=None)\n",
      " |      Fit Ridge regression model.\n",
      " |      \n",
      " |      Parameters\n",
      " |      ----------\n",
      " |      X : {ndarray, sparse matrix} of shape (n_samples, n_features)\n",
      " |          Training data\n",
      " |      \n",
      " |      y : ndarray of shape (n_samples,) or (n_samples, n_targets)\n",
      " |          Target values\n",
      " |      \n",
      " |      sample_weight : float or ndarray of shape (n_samples,), default=None\n",
      " |          Individual weights for each sample. If given a float, every sample\n",
      " |          will have the same weight.\n",
      " |      \n",
      " |      Returns\n",
      " |      -------\n",
      " |      self : returns an instance of self.\n",
      " |  \n",
      " |  ----------------------------------------------------------------------\n",
      " |  Data and other attributes defined here:\n",
      " |  \n",
      " |  __abstractmethods__ = frozenset()\n",
      " |  \n",
      " |  ----------------------------------------------------------------------\n",
      " |  Data descriptors inherited from sklearn.base.MultiOutputMixin:\n",
      " |  \n",
      " |  __dict__\n",
      " |      dictionary for instance variables (if defined)\n",
      " |  \n",
      " |  __weakref__\n",
      " |      list of weak references to the object (if defined)\n",
      " |  \n",
      " |  ----------------------------------------------------------------------\n",
      " |  Methods inherited from sklearn.base.RegressorMixin:\n",
      " |  \n",
      " |  score(self, X, y, sample_weight=None)\n",
      " |      Return the coefficient of determination :math:`R^2` of the\n",
      " |      prediction.\n",
      " |      \n",
      " |      The coefficient :math:`R^2` is defined as :math:`(1 - \\frac{u}{v})`,\n",
      " |      where :math:`u` is the residual sum of squares ``((y_true - y_pred)\n",
      " |      ** 2).sum()`` and :math:`v` is the total sum of squares ``((y_true -\n",
      " |      y_true.mean()) ** 2).sum()``. The best possible score is 1.0 and it\n",
      " |      can be negative (because the model can be arbitrarily worse). A\n",
      " |      constant model that always predicts the expected value of `y`,\n",
      " |      disregarding the input features, would get a :math:`R^2` score of\n",
      " |      0.0.\n",
      " |      \n",
      " |      Parameters\n",
      " |      ----------\n",
      " |      X : array-like of shape (n_samples, n_features)\n",
      " |          Test samples. For some estimators this may be a precomputed\n",
      " |          kernel matrix or a list of generic objects instead with shape\n",
      " |          ``(n_samples, n_samples_fitted)``, where ``n_samples_fitted``\n",
      " |          is the number of samples used in the fitting for the estimator.\n",
      " |      \n",
      " |      y : array-like of shape (n_samples,) or (n_samples, n_outputs)\n",
      " |          True values for `X`.\n",
      " |      \n",
      " |      sample_weight : array-like of shape (n_samples,), default=None\n",
      " |          Sample weights.\n",
      " |      \n",
      " |      Returns\n",
      " |      -------\n",
      " |      score : float\n",
      " |          :math:`R^2` of ``self.predict(X)`` wrt. `y`.\n",
      " |      \n",
      " |      Notes\n",
      " |      -----\n",
      " |      The :math:`R^2` score used when calling ``score`` on a regressor uses\n",
      " |      ``multioutput='uniform_average'`` from version 0.23 to keep consistent\n",
      " |      with default value of :func:`~sklearn.metrics.r2_score`.\n",
      " |      This influences the ``score`` method of all the multioutput\n",
      " |      regressors (except for\n",
      " |      :class:`~sklearn.multioutput.MultiOutputRegressor`).\n",
      " |  \n",
      " |  ----------------------------------------------------------------------\n",
      " |  Methods inherited from sklearn.linear_model._base.LinearModel:\n",
      " |  \n",
      " |  predict(self, X)\n",
      " |      Predict using the linear model.\n",
      " |      \n",
      " |      Parameters\n",
      " |      ----------\n",
      " |      X : array-like or sparse matrix, shape (n_samples, n_features)\n",
      " |          Samples.\n",
      " |      \n",
      " |      Returns\n",
      " |      -------\n",
      " |      C : array, shape (n_samples,)\n",
      " |          Returns predicted values.\n",
      " |  \n",
      " |  ----------------------------------------------------------------------\n",
      " |  Methods inherited from sklearn.base.BaseEstimator:\n",
      " |  \n",
      " |  __getstate__(self)\n",
      " |  \n",
      " |  __repr__(self, N_CHAR_MAX=700)\n",
      " |      Return repr(self).\n",
      " |  \n",
      " |  __setstate__(self, state)\n",
      " |  \n",
      " |  get_params(self, deep=True)\n",
      " |      Get parameters for this estimator.\n",
      " |      \n",
      " |      Parameters\n",
      " |      ----------\n",
      " |      deep : bool, default=True\n",
      " |          If True, will return the parameters for this estimator and\n",
      " |          contained subobjects that are estimators.\n",
      " |      \n",
      " |      Returns\n",
      " |      -------\n",
      " |      params : dict\n",
      " |          Parameter names mapped to their values.\n",
      " |  \n",
      " |  set_params(self, **params)\n",
      " |      Set the parameters of this estimator.\n",
      " |      \n",
      " |      The method works on simple estimators as well as on nested objects\n",
      " |      (such as :class:`~sklearn.pipeline.Pipeline`). The latter have\n",
      " |      parameters of the form ``<component>__<parameter>`` so that it's\n",
      " |      possible to update each component of a nested object.\n",
      " |      \n",
      " |      Parameters\n",
      " |      ----------\n",
      " |      **params : dict\n",
      " |          Estimator parameters.\n",
      " |      \n",
      " |      Returns\n",
      " |      -------\n",
      " |      self : estimator instance\n",
      " |          Estimator instance.\n",
      "\n"
     ]
    }
   ],
   "source": [
    "help(Ridge)"
   ]
  },
  {
   "cell_type": "code",
   "execution_count": 142,
   "id": "39cb975e",
   "metadata": {},
   "outputs": [],
   "source": [
    "ridge_model=Ridge(alpha=10)"
   ]
  },
  {
   "cell_type": "code",
   "execution_count": 143,
   "id": "124e72d7",
   "metadata": {},
   "outputs": [
    {
     "data": {
      "text/plain": [
       "Ridge(alpha=10)"
      ]
     },
     "execution_count": 143,
     "metadata": {},
     "output_type": "execute_result"
    }
   ],
   "source": [
    "ridge_model.fit(X_train,y_train)"
   ]
  },
  {
   "cell_type": "code",
   "execution_count": 144,
   "id": "ef190063",
   "metadata": {},
   "outputs": [],
   "source": [
    "test_pred=ridge_model.predict(X_test)"
   ]
  },
  {
   "cell_type": "code",
   "execution_count": 145,
   "id": "edd36f2d",
   "metadata": {},
   "outputs": [],
   "source": [
    "from sklearn.metrics import mean_absolute_error,mean_squared_error"
   ]
  },
  {
   "cell_type": "code",
   "execution_count": 146,
   "id": "3a48ba70",
   "metadata": {},
   "outputs": [],
   "source": [
    "MAE=mean_absolute_error(y_test,test_pred)"
   ]
  },
  {
   "cell_type": "code",
   "execution_count": 147,
   "id": "98dbf2dd",
   "metadata": {},
   "outputs": [
    {
     "data": {
      "text/plain": [
       "0.624991563578321"
      ]
     },
     "execution_count": 147,
     "metadata": {},
     "output_type": "execute_result"
    }
   ],
   "source": [
    "MAE"
   ]
  },
  {
   "cell_type": "code",
   "execution_count": 148,
   "id": "8ca8bcda",
   "metadata": {},
   "outputs": [],
   "source": [
    "RMSE=np.sqrt(mean_squared_error(y_test,test_pred))"
   ]
  },
  {
   "cell_type": "code",
   "execution_count": 149,
   "id": "5888930c",
   "metadata": {},
   "outputs": [
    {
     "data": {
      "text/plain": [
       "0.9256089802403071"
      ]
     },
     "execution_count": 149,
     "metadata": {},
     "output_type": "execute_result"
    }
   ],
   "source": [
    "RMSE"
   ]
  },
  {
   "cell_type": "code",
   "execution_count": 150,
   "id": "1c557ce5",
   "metadata": {},
   "outputs": [],
   "source": [
    "# Use cross validation to test alpha"
   ]
  },
  {
   "cell_type": "code",
   "execution_count": 151,
   "id": "d731c723",
   "metadata": {},
   "outputs": [],
   "source": [
    "from sklearn.linear_model import RidgeCV"
   ]
  },
  {
   "cell_type": "code",
   "execution_count": 157,
   "id": "ce5b0b15",
   "metadata": {},
   "outputs": [],
   "source": [
    "# We have to provide score matrics\n",
    "# Default leave one out validation\n",
    "ridge_cv_model=RidgeCV(alphas=(0.1,1.0,10.0),scoring='neg_mean_absolute_error')"
   ]
  },
  {
   "cell_type": "code",
   "execution_count": 158,
   "id": "1a84ec4a",
   "metadata": {},
   "outputs": [
    {
     "data": {
      "text/plain": [
       "RidgeCV(alphas=array([ 0.1,  1. , 10. ]), scoring='neg_mean_absolute_error')"
      ]
     },
     "execution_count": 158,
     "metadata": {},
     "output_type": "execute_result"
    }
   ],
   "source": [
    "ridge_cv_model.fit(X_train,y_train)"
   ]
  },
  {
   "cell_type": "code",
   "execution_count": 166,
   "id": "4c487b1f",
   "metadata": {},
   "outputs": [
    {
     "data": {
      "text/plain": [
       "1.0"
      ]
     },
     "execution_count": 166,
     "metadata": {},
     "output_type": "execute_result"
    }
   ],
   "source": [
    "ridge_cv_model.alpha_"
   ]
  },
  {
   "cell_type": "code",
   "execution_count": 160,
   "id": "f7437b69",
   "metadata": {},
   "outputs": [],
   "source": [
    "# from sklearn.metrics import SCORERS"
   ]
  },
  {
   "cell_type": "code",
   "execution_count": 156,
   "id": "f27ad8f1",
   "metadata": {},
   "outputs": [
    {
     "data": {
      "text/plain": [
       "dict_keys(['explained_variance', 'r2', 'max_error', 'neg_median_absolute_error', 'neg_mean_absolute_error', 'neg_mean_absolute_percentage_error', 'neg_mean_squared_error', 'neg_mean_squared_log_error', 'neg_root_mean_squared_error', 'neg_mean_poisson_deviance', 'neg_mean_gamma_deviance', 'accuracy', 'top_k_accuracy', 'roc_auc', 'roc_auc_ovr', 'roc_auc_ovo', 'roc_auc_ovr_weighted', 'roc_auc_ovo_weighted', 'balanced_accuracy', 'average_precision', 'neg_log_loss', 'neg_brier_score', 'adjusted_rand_score', 'rand_score', 'homogeneity_score', 'completeness_score', 'v_measure_score', 'mutual_info_score', 'adjusted_mutual_info_score', 'normalized_mutual_info_score', 'fowlkes_mallows_score', 'precision', 'precision_macro', 'precision_micro', 'precision_samples', 'precision_weighted', 'recall', 'recall_macro', 'recall_micro', 'recall_samples', 'recall_weighted', 'f1', 'f1_macro', 'f1_micro', 'f1_samples', 'f1_weighted', 'jaccard', 'jaccard_macro', 'jaccard_micro', 'jaccard_samples', 'jaccard_weighted'])"
      ]
     },
     "execution_count": 156,
     "metadata": {},
     "output_type": "execute_result"
    }
   ],
   "source": [
    "# SCORERS.keys()\n",
    "# 'neg_mean_absolute_error','neg_mean_squared_error'"
   ]
  },
  {
   "cell_type": "code",
   "execution_count": 167,
   "id": "2732e534",
   "metadata": {},
   "outputs": [],
   "source": [
    "test_pred=ridge_cv_model.predict(X_test)"
   ]
  },
  {
   "cell_type": "code",
   "execution_count": 168,
   "id": "87c5bad5",
   "metadata": {},
   "outputs": [],
   "source": [
    "MAE=mean_absolute_error(y_test,test_pred)"
   ]
  },
  {
   "cell_type": "code",
   "execution_count": 169,
   "id": "bd031ddb",
   "metadata": {},
   "outputs": [],
   "source": [
    "RMSE=np.sqrt(mean_squared_error(y_test,test_pred))"
   ]
  },
  {
   "cell_type": "code",
   "execution_count": 170,
   "id": "615537c3",
   "metadata": {},
   "outputs": [
    {
     "data": {
      "text/plain": [
       "0.5953100575021051"
      ]
     },
     "execution_count": 170,
     "metadata": {},
     "output_type": "execute_result"
    }
   ],
   "source": [
    "MAE"
   ]
  },
  {
   "cell_type": "code",
   "execution_count": 171,
   "id": "2f36de8e",
   "metadata": {},
   "outputs": [
    {
     "data": {
      "text/plain": [
       "0.9242857053350071"
      ]
     },
     "execution_count": 171,
     "metadata": {},
     "output_type": "execute_result"
    }
   ],
   "source": [
    "RMSE"
   ]
  },
  {
   "cell_type": "code",
   "execution_count": 172,
   "id": "b29fcae3",
   "metadata": {},
   "outputs": [
    {
     "data": {
      "text/plain": [
       "array([ 3.24417964e+00,  7.81879078e-01,  1.58464053e-01, -5.68885604e-01,\n",
       "        2.43388762e+00,  2.73918332e-01, -3.50221690e-01,  3.29459798e-01,\n",
       "       -1.98987907e-01, -8.12622390e-01,  9.64428148e-02, -4.99385074e-01,\n",
       "        1.34998229e+00,  2.24908940e-01, -1.47548474e-03, -5.65396163e-01,\n",
       "        9.18740228e-02, -1.05326902e-01,  1.47965270e-02, -4.63297286e-01,\n",
       "       -7.55448380e-02, -2.88164957e-01, -1.75702068e-01, -2.03681122e-01,\n",
       "       -1.44358267e-01,  8.44291267e-01,  5.49883507e-02, -7.07981008e-02,\n",
       "        7.52868185e-03, -4.64299449e-01,  6.74526515e-02, -1.01328688e-01,\n",
       "       -1.78625428e-02,  1.33560100e-01, -1.41250018e-01,  7.10640261e-02,\n",
       "       -2.28200492e-02, -1.75551171e-01, -6.26382150e-02,  5.61460304e-03,\n",
       "       -2.88558217e-01, -1.82683441e-01, -9.17746432e-02, -1.51904659e-02,\n",
       "        5.79875088e-01,  1.27741212e-02, -9.29480606e-02, -4.02004267e-02,\n",
       "       -2.69218483e-03, -2.82847940e-01,  8.39699315e-02, -4.16070203e-02,\n",
       "       -1.69699268e-02,  7.68381871e-02,  1.30169558e-01,  5.16234729e-02,\n",
       "        1.61487814e-01,  1.22842034e-01, -1.47599885e-02,  3.53124318e-02,\n",
       "        1.06233201e-01, -1.97308871e-01, -3.14217889e-02,  1.68283297e-02,\n",
       "        5.99635509e-02, -3.18396851e-01, -1.36750980e-01, -5.54962577e-02,\n",
       "       -2.90372248e-03,  4.21190656e-03,  4.07909626e-01,  3.81278047e-03,\n",
       "       -6.59931455e-02, -3.75926359e-02, -1.82200856e-02, -3.13844413e-02,\n",
       "       -9.76649392e-02,  8.28540895e-02, -5.45033883e-03,  8.71867764e-03,\n",
       "        5.37719189e-02,  8.48509663e-02,  6.85477968e-02,  1.30982747e-01,\n",
       "        1.55013153e-01,  1.59053600e-01,  5.40026749e-02,  2.95884174e-02,\n",
       "        1.23370064e-01, -1.45605006e-02,  3.50065172e-02,  3.60302296e-02,\n",
       "        8.15066728e-02, -1.72878561e-01,  1.91792201e-02,  4.37628230e-02,\n",
       "        5.11017888e-02,  4.12524985e-02, -3.27124079e-01, -9.26362364e-02,\n",
       "       -1.12891608e-02,  2.09813035e-02,  2.01693152e-02, -1.11786467e-02,\n",
       "        2.77041554e-01, -1.05754461e-02, -4.03040080e-02, -1.40324978e-02,\n",
       "       -1.59682408e-02, -2.81226368e-02, -6.30153967e-02,  6.84734606e-02,\n",
       "        5.66514239e-02, -9.45257027e-03,  1.15434890e-02,  4.38482598e-02,\n",
       "        5.21580839e-02,  3.93304917e-02, -3.40715339e-03,  1.31633708e-01,\n",
       "        7.73680073e-02,  1.23660590e-01,  2.17284173e-02, -4.51688464e-02,\n",
       "        8.41435196e-02,  5.88387729e-02, -4.50323185e-03, -1.79080764e-02,\n",
       "        5.41619931e-02,  3.14786878e-02,  7.37885060e-02,  3.77034079e-02,\n",
       "        3.15457010e-02,  3.55186452e-02, -1.41719556e-01,  7.00143476e-02,\n",
       "        7.84957818e-02,  6.46655915e-02,  4.46791628e-02,  1.07959445e-02,\n",
       "       -3.32754282e-01, -6.47506213e-02,  2.14365777e-02,  4.44679017e-02,\n",
       "        3.12996886e-02,  8.87059159e-03, -3.38717168e-02,  1.70704219e-01,\n",
       "       -3.64575721e-02, -3.13139749e-02,  1.79425548e-03, -6.64111920e-03,\n",
       "       -2.99185883e-02, -5.17000145e-02, -8.94158796e-02,  2.09705320e-01,\n",
       "        1.23786816e-02, -4.56942969e-02, -1.60148886e-02,  1.85710445e-02,\n",
       "        2.66328442e-02,  8.12974251e-03, -1.93463356e-02, -6.29996388e-02,\n",
       "        8.36919726e-02, -4.08360309e-02,  4.84578331e-02, -7.82621322e-02,\n",
       "       -1.54012707e-01,  1.56580819e-02,  2.47241653e-02, -1.06989252e-01,\n",
       "       -1.07575210e-01,  1.14017768e-03,  1.18175396e-01,  2.00257109e-02,\n",
       "       -4.09102806e-02, -3.20990672e-02,  1.15412568e-03,  8.70689432e-02,\n",
       "        1.24366676e-01,  5.72352765e-02,  2.71361174e-02,  1.57258479e-02,\n",
       "       -3.57857351e-04, -1.13988650e-01,  1.10986842e-01,  1.06572101e-01,\n",
       "        7.71111618e-02,  4.78489688e-02,  2.23439601e-02, -1.65082124e-02,\n",
       "       -3.37022774e-01, -5.12319650e-02,  3.84453874e-02,  5.56716512e-02,\n",
       "        3.73267574e-02,  1.18574367e-02, -1.34012726e-02, -5.45438656e-02,\n",
       "        8.32196302e-02, -6.93781155e-02, -3.77496059e-02,  1.99274948e-03,\n",
       "       -5.88835321e-03, -3.12271895e-02, -5.59242515e-02, -7.53099081e-02,\n",
       "       -1.07838914e-01,  3.25306563e-01, -4.14706005e-02, -1.01281862e-01,\n",
       "       -6.65734707e-02, -2.66960535e-02, -8.73432398e-03, -1.91082155e-02,\n",
       "       -4.46200221e-02, -6.92389384e-02, -1.03817569e-01])"
      ]
     },
     "execution_count": 172,
     "metadata": {},
     "output_type": "execute_result"
    }
   ],
   "source": [
    "ridge_cv_model.coef_"
   ]
  },
  {
   "cell_type": "code",
   "execution_count": 173,
   "id": "c92e4fd4",
   "metadata": {},
   "outputs": [],
   "source": [
    "# LASSo REgression\n",
    "# It can yield some coeff equal to zero when lambda is large\n",
    "# can also perform variable selection"
   ]
  },
  {
   "cell_type": "code",
   "execution_count": 176,
   "id": "ef84c145",
   "metadata": {},
   "outputs": [],
   "source": [
    "from sklearn.linear_model import LassoCV"
   ]
  },
  {
   "cell_type": "code",
   "execution_count": 200,
   "id": "304d7c5e",
   "metadata": {},
   "outputs": [],
   "source": [
    "# We can provide list or set none which provide itself or min max limit of alphas\n",
    "# cv is number of fold\n",
    "# eps=min/max\n",
    "# lasso_cv_model=LassoCV(eps=0.1,n_alphas=100,cv=5)\n",
    "lasso_cv_model=LassoCV(eps=0.0001,n_alphas=100,cv=5,max_iter=100000000)"
   ]
  },
  {
   "cell_type": "code",
   "execution_count": 201,
   "id": "362853f2",
   "metadata": {},
   "outputs": [
    {
     "data": {
      "text/plain": [
       "LassoCV(cv=5, eps=0.0001, max_iter=100000000)"
      ]
     },
     "execution_count": 201,
     "metadata": {},
     "output_type": "execute_result"
    }
   ],
   "source": [
    "lasso_cv_model.fit(X_train,y_train)"
   ]
  },
  {
   "cell_type": "code",
   "execution_count": 202,
   "id": "2d3defe9",
   "metadata": {},
   "outputs": [
    {
     "data": {
      "text/plain": [
       "0.006094048853269989"
      ]
     },
     "execution_count": 202,
     "metadata": {},
     "output_type": "execute_result"
    }
   ],
   "source": [
    "lasso_cv_model.alpha_\n"
   ]
  },
  {
   "cell_type": "code",
   "execution_count": 203,
   "id": "ad3d4d22",
   "metadata": {},
   "outputs": [],
   "source": [
    "test_preds=lasso_cv_model.predict(X_test)"
   ]
  },
  {
   "cell_type": "code",
   "execution_count": 204,
   "id": "3708784d",
   "metadata": {},
   "outputs": [],
   "source": [
    "RMSE=np.sqrt(mean_squared_error(y_test,test_preds))"
   ]
  },
  {
   "cell_type": "code",
   "execution_count": 205,
   "id": "3dea5940",
   "metadata": {},
   "outputs": [],
   "source": [
    "MAE=mean_absolute_error(y_test,test_preds)"
   ]
  },
  {
   "cell_type": "code",
   "execution_count": 206,
   "id": "e2610994",
   "metadata": {},
   "outputs": [
    {
     "data": {
      "text/plain": [
       "0.42824613172290454"
      ]
     },
     "execution_count": 206,
     "metadata": {},
     "output_type": "execute_result"
    }
   ],
   "source": [
    "MAE"
   ]
  },
  {
   "cell_type": "code",
   "execution_count": 207,
   "id": "0ebaac00",
   "metadata": {},
   "outputs": [
    {
     "data": {
      "text/plain": [
       "0.6107871978806246"
      ]
     },
     "execution_count": 207,
     "metadata": {},
     "output_type": "execute_result"
    }
   ],
   "source": [
    "RMSE"
   ]
  },
  {
   "cell_type": "code",
   "execution_count": 208,
   "id": "7009e16c",
   "metadata": {},
   "outputs": [],
   "source": [
    "# lass is performing less than ridge"
   ]
  },
  {
   "cell_type": "code",
   "execution_count": 198,
   "id": "d2225737",
   "metadata": {},
   "outputs": [
    {
     "data": {
      "text/plain": [
       "array([ 4.28098740e+00,  2.46664345e-02,  1.86045869e-01, -3.06184973e+00,\n",
       "        4.78398775e+00, -0.00000000e+00, -0.00000000e+00,  1.54432997e-01,\n",
       "        0.00000000e+00, -0.00000000e+00, -9.38705002e-01, -3.68511025e-01,\n",
       "        0.00000000e+00, -7.90934028e-02, -0.00000000e+00, -0.00000000e+00,\n",
       "        0.00000000e+00,  0.00000000e+00,  0.00000000e+00,  0.00000000e+00,\n",
       "       -0.00000000e+00, -0.00000000e+00, -0.00000000e+00, -5.89393497e-02,\n",
       "       -0.00000000e+00,  0.00000000e+00, -0.00000000e+00, -0.00000000e+00,\n",
       "       -0.00000000e+00, -0.00000000e+00,  0.00000000e+00,  0.00000000e+00,\n",
       "        0.00000000e+00,  0.00000000e+00,  0.00000000e+00,  0.00000000e+00,\n",
       "        0.00000000e+00, -0.00000000e+00, -0.00000000e+00,  0.00000000e+00,\n",
       "       -0.00000000e+00, -0.00000000e+00, -0.00000000e+00,  0.00000000e+00,\n",
       "        0.00000000e+00, -0.00000000e+00, -0.00000000e+00, -0.00000000e+00,\n",
       "       -0.00000000e+00,  0.00000000e+00, -0.00000000e+00, -0.00000000e+00,\n",
       "       -0.00000000e+00,  0.00000000e+00,  0.00000000e+00,  1.39422355e-01,\n",
       "        0.00000000e+00,  0.00000000e+00, -0.00000000e+00,  0.00000000e+00,\n",
       "        0.00000000e+00, -0.00000000e+00, -0.00000000e+00,  0.00000000e+00,\n",
       "        0.00000000e+00, -0.00000000e+00, -0.00000000e+00, -0.00000000e+00,\n",
       "       -0.00000000e+00, -0.00000000e+00,  0.00000000e+00, -0.00000000e+00,\n",
       "       -0.00000000e+00, -0.00000000e+00, -0.00000000e+00, -0.00000000e+00,\n",
       "        0.00000000e+00, -0.00000000e+00, -0.00000000e+00, -0.00000000e+00,\n",
       "        0.00000000e+00,  0.00000000e+00,  0.00000000e+00,  2.56370486e-01,\n",
       "        0.00000000e+00,  3.60864138e-01,  0.00000000e+00,  0.00000000e+00,\n",
       "        0.00000000e+00, -0.00000000e+00,  0.00000000e+00,  0.00000000e+00,\n",
       "        0.00000000e+00, -0.00000000e+00, -0.00000000e+00,  0.00000000e+00,\n",
       "        0.00000000e+00,  0.00000000e+00, -0.00000000e+00, -0.00000000e+00,\n",
       "       -0.00000000e+00,  0.00000000e+00, -0.00000000e+00, -0.00000000e+00,\n",
       "        0.00000000e+00, -0.00000000e+00, -0.00000000e+00,  0.00000000e+00,\n",
       "       -0.00000000e+00, -0.00000000e+00, -0.00000000e+00,  0.00000000e+00,\n",
       "       -0.00000000e+00, -0.00000000e+00, -0.00000000e+00,  0.00000000e+00,\n",
       "        0.00000000e+00, -0.00000000e+00, -0.00000000e+00,  0.00000000e+00,\n",
       "        0.00000000e+00,  0.00000000e+00,  0.00000000e+00,  0.00000000e+00,\n",
       "        0.00000000e+00, -0.00000000e+00,  0.00000000e+00,  0.00000000e+00,\n",
       "        0.00000000e+00, -0.00000000e+00, -0.00000000e+00,  0.00000000e+00,\n",
       "        0.00000000e+00,  0.00000000e+00, -0.00000000e+00, -0.00000000e+00,\n",
       "        0.00000000e+00,  0.00000000e+00,  0.00000000e+00, -0.00000000e+00,\n",
       "       -0.00000000e+00, -0.00000000e+00,  0.00000000e+00,  0.00000000e+00,\n",
       "        0.00000000e+00, -0.00000000e+00, -0.00000000e+00,  4.74435219e-03,\n",
       "       -0.00000000e+00, -0.00000000e+00,  0.00000000e+00, -0.00000000e+00,\n",
       "       -0.00000000e+00, -0.00000000e+00, -0.00000000e+00,  0.00000000e+00,\n",
       "       -0.00000000e+00, -0.00000000e+00, -0.00000000e+00, -0.00000000e+00,\n",
       "        0.00000000e+00, -0.00000000e+00, -0.00000000e+00, -0.00000000e+00,\n",
       "        0.00000000e+00,  0.00000000e+00,  0.00000000e+00,  0.00000000e+00,\n",
       "        0.00000000e+00,  0.00000000e+00, -0.00000000e+00,  0.00000000e+00,\n",
       "        0.00000000e+00,  0.00000000e+00, -0.00000000e+00,  0.00000000e+00,\n",
       "        0.00000000e+00,  0.00000000e+00,  0.00000000e+00, -0.00000000e+00,\n",
       "       -0.00000000e+00,  0.00000000e+00,  0.00000000e+00,  0.00000000e+00,\n",
       "       -0.00000000e+00, -0.00000000e+00, -0.00000000e+00,  0.00000000e+00,\n",
       "        0.00000000e+00,  0.00000000e+00, -0.00000000e+00, -0.00000000e+00,\n",
       "       -0.00000000e+00, -3.72048607e-03,  0.00000000e+00,  0.00000000e+00,\n",
       "        0.00000000e+00, -0.00000000e+00, -0.00000000e+00, -0.00000000e+00,\n",
       "        1.13654546e-02, -0.00000000e+00, -0.00000000e+00,  0.00000000e+00,\n",
       "        0.00000000e+00, -0.00000000e+00, -0.00000000e+00, -0.00000000e+00,\n",
       "       -7.42815107e-02,  6.72241187e-02, -0.00000000e+00, -5.52847703e-02,\n",
       "       -0.00000000e+00, -0.00000000e+00,  0.00000000e+00,  0.00000000e+00,\n",
       "       -0.00000000e+00, -0.00000000e+00, -0.00000000e+00])"
      ]
     },
     "execution_count": 198,
     "metadata": {},
     "output_type": "execute_result"
    }
   ],
   "source": [
    "# Benifit of lasso\n",
    "lasso_cv_model.coef_"
   ]
  },
  {
   "cell_type": "code",
   "execution_count": 209,
   "id": "a280aa9c",
   "metadata": {},
   "outputs": [],
   "source": [
    "# only looking at two feature for its performance matrix\n",
    "# For eps=0.1 and max_iter was default\n",
    "# More complex model as it search for more alpha but still it's having zero for many features\n",
    "# Better than ridge as it was considering alll the feature and same performance"
   ]
  },
  {
   "cell_type": "code",
   "execution_count": 210,
   "id": "bda8b0aa",
   "metadata": {},
   "outputs": [],
   "source": [
    "# Elastic net(L1+L2)"
   ]
  },
  {
   "cell_type": "code",
   "execution_count": 211,
   "id": "3d53da2e",
   "metadata": {},
   "outputs": [],
   "source": [
    "from sklearn.linear_model import ElasticNetCV"
   ]
  },
  {
   "cell_type": "code",
   "execution_count": 212,
   "id": "e6b5dfd2",
   "metadata": {},
   "outputs": [],
   "source": [
    "# l1_ration is alpha and n_alphas is lambda from equation\n",
    "elastic_model=ElasticNetCV(l1_ratio=[.1,.5,.7,.9,.95,1],eps=0.001,n_alphas=100,max_iter=100000)"
   ]
  },
  {
   "cell_type": "code",
   "execution_count": 213,
   "id": "caa7687e",
   "metadata": {},
   "outputs": [
    {
     "data": {
      "text/plain": [
       "ElasticNetCV(l1_ratio=[0.1, 0.5, 0.7, 0.9, 0.95, 1], max_iter=100000)"
      ]
     },
     "execution_count": 213,
     "metadata": {},
     "output_type": "execute_result"
    }
   ],
   "source": [
    "elastic_model.fit(X_train,y_train)"
   ]
  },
  {
   "cell_type": "code",
   "execution_count": 214,
   "id": "603caf26",
   "metadata": {},
   "outputs": [
    {
     "data": {
      "text/plain": [
       "1.0"
      ]
     },
     "execution_count": 214,
     "metadata": {},
     "output_type": "execute_result"
    }
   ],
   "source": [
    "elastic_model.l1_ratio_"
   ]
  },
  {
   "cell_type": "code",
   "execution_count": 215,
   "id": "09145301",
   "metadata": {},
   "outputs": [
    {
     "data": {
      "text/plain": [
       "0.006094048853269989"
      ]
     },
     "execution_count": 215,
     "metadata": {},
     "output_type": "execute_result"
    }
   ],
   "source": [
    "# It chooses l1 completely duplicated lassocv model\n",
    "elastic_model.alpha_"
   ]
  },
  {
   "cell_type": "code",
   "execution_count": 216,
   "id": "bb8e0d46",
   "metadata": {},
   "outputs": [
    {
     "data": {
      "text/plain": [
       "0.006094048853269989"
      ]
     },
     "execution_count": 216,
     "metadata": {},
     "output_type": "execute_result"
    }
   ],
   "source": [
    "lasso_cv_model.alpha_"
   ]
  },
  {
   "cell_type": "code",
   "execution_count": 217,
   "id": "a7acaa35",
   "metadata": {},
   "outputs": [],
   "source": [
    "test_predss=elastic_model.predict(X_test)"
   ]
  },
  {
   "cell_type": "code",
   "execution_count": 218,
   "id": "33d08326",
   "metadata": {},
   "outputs": [],
   "source": [
    "MAE=mean_absolute_error(y_test,test_predss)"
   ]
  },
  {
   "cell_type": "code",
   "execution_count": 219,
   "id": "66a12e6a",
   "metadata": {},
   "outputs": [],
   "source": [
    "RMSE=np.sqrt(mean_squared_error(y_test,test_preds))"
   ]
  },
  {
   "cell_type": "code",
   "execution_count": 220,
   "id": "9c676616",
   "metadata": {},
   "outputs": [
    {
     "data": {
      "text/plain": [
       "0.42824613172290454"
      ]
     },
     "execution_count": 220,
     "metadata": {},
     "output_type": "execute_result"
    }
   ],
   "source": [
    "MAE"
   ]
  },
  {
   "cell_type": "code",
   "execution_count": 221,
   "id": "bed373a4",
   "metadata": {},
   "outputs": [
    {
     "data": {
      "text/plain": [
       "0.6107871978806246"
      ]
     },
     "execution_count": 221,
     "metadata": {},
     "output_type": "execute_result"
    }
   ],
   "source": [
    "RMSE"
   ]
  },
  {
   "cell_type": "code",
   "execution_count": 222,
   "id": "8af6799f",
   "metadata": {},
   "outputs": [],
   "source": [
    "# Elastic net can decide itself if it wants completely L1 or L2 model"
   ]
  },
  {
   "cell_type": "code",
   "execution_count": null,
   "id": "45491657",
   "metadata": {},
   "outputs": [],
   "source": []
  }
 ],
 "metadata": {
  "kernelspec": {
   "display_name": "Python 3 (ipykernel)",
   "language": "python",
   "name": "python3"
  },
  "language_info": {
   "codemirror_mode": {
    "name": "ipython",
    "version": 3
   },
   "file_extension": ".py",
   "mimetype": "text/x-python",
   "name": "python",
   "nbconvert_exporter": "python",
   "pygments_lexer": "ipython3",
   "version": "3.9.7"
  }
 },
 "nbformat": 4,
 "nbformat_minor": 5
}
