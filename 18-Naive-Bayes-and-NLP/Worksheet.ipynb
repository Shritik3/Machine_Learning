{
 "cells": [
  {
   "cell_type": "code",
   "execution_count": 42,
   "id": "e888bac0",
   "metadata": {},
   "outputs": [],
   "source": [
    "# doing manually and converting strings to something numerical"
   ]
  },
  {
   "cell_type": "code",
   "execution_count": 7,
   "id": "32c8f6d2",
   "metadata": {},
   "outputs": [],
   "source": [
    "with open('One.txt') as mytext:\n",
    "    a=mytext.read()"
   ]
  },
  {
   "cell_type": "code",
   "execution_count": 3,
   "id": "d310d55c",
   "metadata": {},
   "outputs": [
    {
     "data": {
      "text/plain": [
       "'This is a story about dogs\\nour canine pets\\nDogs are furry animals\\n'"
      ]
     },
     "execution_count": 3,
     "metadata": {},
     "output_type": "execute_result"
    }
   ],
   "source": [
    "a"
   ]
  },
  {
   "cell_type": "code",
   "execution_count": 4,
   "id": "3f17ebce",
   "metadata": {},
   "outputs": [
    {
     "name": "stdout",
     "output_type": "stream",
     "text": [
      "This is a story about dogs\n",
      "our canine pets\n",
      "Dogs are furry animals\n",
      "\n"
     ]
    }
   ],
   "source": [
    "print(a)"
   ]
  },
  {
   "cell_type": "code",
   "execution_count": 5,
   "id": "4381fd44",
   "metadata": {},
   "outputs": [],
   "source": [
    "# with open('One.txt') as mytext:\n",
    "#     a=mytext.readlines()"
   ]
  },
  {
   "cell_type": "code",
   "execution_count": 6,
   "id": "259a703c",
   "metadata": {},
   "outputs": [
    {
     "data": {
      "text/plain": [
       "['This is a story about dogs\\n',\n",
       " 'our canine pets\\n',\n",
       " 'Dogs are furry animals\\n']"
      ]
     },
     "execution_count": 6,
     "metadata": {},
     "output_type": "execute_result"
    }
   ],
   "source": [
    "a"
   ]
  },
  {
   "cell_type": "code",
   "execution_count": 8,
   "id": "79d94046",
   "metadata": {},
   "outputs": [
    {
     "data": {
      "text/plain": [
       "['this',\n",
       " 'is',\n",
       " 'a',\n",
       " 'story',\n",
       " 'about',\n",
       " 'dogs',\n",
       " 'our',\n",
       " 'canine',\n",
       " 'pets',\n",
       " 'dogs',\n",
       " 'are',\n",
       " 'furry',\n",
       " 'animals']"
      ]
     },
     "execution_count": 8,
     "metadata": {},
     "output_type": "execute_result"
    }
   ],
   "source": [
    "a.lower().split()"
   ]
  },
  {
   "cell_type": "code",
   "execution_count": 10,
   "id": "fd7cc300",
   "metadata": {},
   "outputs": [],
   "source": [
    "# array of unique words is a vocabulary\n",
    "with open('One.txt') as mytext:\n",
    "    words_one=mytext.read().lower().split()\n",
    "    uni_words_one=set(words_one)"
   ]
  },
  {
   "cell_type": "code",
   "execution_count": 11,
   "id": "974be055",
   "metadata": {},
   "outputs": [
    {
     "data": {
      "text/plain": [
       "{'a',\n",
       " 'about',\n",
       " 'animals',\n",
       " 'are',\n",
       " 'canine',\n",
       " 'dogs',\n",
       " 'furry',\n",
       " 'is',\n",
       " 'our',\n",
       " 'pets',\n",
       " 'story',\n",
       " 'this'}"
      ]
     },
     "execution_count": 11,
     "metadata": {},
     "output_type": "execute_result"
    }
   ],
   "source": [
    "uni_words_one"
   ]
  },
  {
   "cell_type": "code",
   "execution_count": 12,
   "id": "890abc6e",
   "metadata": {},
   "outputs": [],
   "source": [
    "with open('Two.txt') as mytext:\n",
    "    words_two=mytext.read().lower().split()\n",
    "    uni_words_two=set(words_two)"
   ]
  },
  {
   "cell_type": "code",
   "execution_count": 13,
   "id": "cbd29605",
   "metadata": {},
   "outputs": [
    {
     "data": {
      "text/plain": [
       "{'a',\n",
       " 'about',\n",
       " 'catching',\n",
       " 'fun',\n",
       " 'is',\n",
       " 'popular',\n",
       " 'sport',\n",
       " 'story',\n",
       " 'surfing',\n",
       " 'this',\n",
       " 'water',\n",
       " 'waves'}"
      ]
     },
     "execution_count": 13,
     "metadata": {},
     "output_type": "execute_result"
    }
   ],
   "source": [
    "uni_words_two"
   ]
  },
  {
   "cell_type": "code",
   "execution_count": 14,
   "id": "3fa7dcc1",
   "metadata": {},
   "outputs": [],
   "source": [
    "all_uni_words=set()\n",
    "all_uni_words.update(uni_words_one)"
   ]
  },
  {
   "cell_type": "code",
   "execution_count": 15,
   "id": "377522d2",
   "metadata": {},
   "outputs": [],
   "source": [
    "all_uni_words.update(uni_words_two)"
   ]
  },
  {
   "cell_type": "code",
   "execution_count": 16,
   "id": "1bf42cd7",
   "metadata": {},
   "outputs": [
    {
     "data": {
      "text/plain": [
       "{'a',\n",
       " 'about',\n",
       " 'animals',\n",
       " 'are',\n",
       " 'canine',\n",
       " 'catching',\n",
       " 'dogs',\n",
       " 'fun',\n",
       " 'furry',\n",
       " 'is',\n",
       " 'our',\n",
       " 'pets',\n",
       " 'popular',\n",
       " 'sport',\n",
       " 'story',\n",
       " 'surfing',\n",
       " 'this',\n",
       " 'water',\n",
       " 'waves'}"
      ]
     },
     "execution_count": 16,
     "metadata": {},
     "output_type": "execute_result"
    }
   ],
   "source": [
    "all_uni_words"
   ]
  },
  {
   "cell_type": "code",
   "execution_count": 17,
   "id": "d9b6e6b7",
   "metadata": {},
   "outputs": [],
   "source": [
    "full_vocab=dict()\n",
    "i=0\n",
    "for word in all_uni_words:\n",
    "    full_vocab[word]=i\n",
    "    i=i+1"
   ]
  },
  {
   "cell_type": "code",
   "execution_count": 18,
   "id": "a0394ae5",
   "metadata": {},
   "outputs": [
    {
     "data": {
      "text/plain": [
       "{'this': 0,\n",
       " 'a': 1,\n",
       " 'pets': 2,\n",
       " 'are': 3,\n",
       " 'sport': 4,\n",
       " 'animals': 5,\n",
       " 'dogs': 6,\n",
       " 'fun': 7,\n",
       " 'canine': 8,\n",
       " 'furry': 9,\n",
       " 'waves': 10,\n",
       " 'about': 11,\n",
       " 'catching': 12,\n",
       " 'water': 13,\n",
       " 'surfing': 14,\n",
       " 'popular': 15,\n",
       " 'story': 16,\n",
       " 'our': 17,\n",
       " 'is': 18}"
      ]
     },
     "execution_count": 18,
     "metadata": {},
     "output_type": "execute_result"
    }
   ],
   "source": [
    "# order can be different\n",
    "full_vocab"
   ]
  },
  {
   "cell_type": "code",
   "execution_count": 28,
   "id": "f957f571",
   "metadata": {},
   "outputs": [],
   "source": [
    "one_freq=[0]*len(full_vocab)\n",
    "two_freq=[0]*len(full_vocab)\n",
    "all_uni_words=['']*len(full_vocab)"
   ]
  },
  {
   "cell_type": "code",
   "execution_count": 29,
   "id": "90c1c267",
   "metadata": {},
   "outputs": [],
   "source": [
    "with open('One.txt') as f:\n",
    "    one_text=f.read().lower().split()"
   ]
  },
  {
   "cell_type": "code",
   "execution_count": 30,
   "id": "dd5f2aa9",
   "metadata": {},
   "outputs": [],
   "source": [
    "# as full_vocab is a dictionary it returns index value while passing words\n",
    "# increase count at the index of that particular word\n",
    "for word in one_text:\n",
    "    word_ind=full_vocab[word]\n",
    "    one_freq[word_ind]+=1"
   ]
  },
  {
   "cell_type": "code",
   "execution_count": 31,
   "id": "c2f169ae",
   "metadata": {},
   "outputs": [
    {
     "data": {
      "text/plain": [
       "[1, 1, 1, 1, 0, 1, 2, 0, 1, 1, 0, 1, 0, 0, 0, 0, 1, 1, 1]"
      ]
     },
     "execution_count": 31,
     "metadata": {},
     "output_type": "execute_result"
    }
   ],
   "source": [
    "one_freq"
   ]
  },
  {
   "cell_type": "code",
   "execution_count": 32,
   "id": "c2412519",
   "metadata": {},
   "outputs": [],
   "source": [
    "with open('Two.txt') as f:\n",
    "    two_text=f.read().lower().split()"
   ]
  },
  {
   "cell_type": "code",
   "execution_count": 33,
   "id": "90b80808",
   "metadata": {},
   "outputs": [],
   "source": [
    "for word in two_text:\n",
    "    word_ind=full_vocab[word]\n",
    "    two_freq[word_ind]+=1"
   ]
  },
  {
   "cell_type": "code",
   "execution_count": 34,
   "id": "7abb1744",
   "metadata": {},
   "outputs": [
    {
     "data": {
      "text/plain": [
       "[1, 1, 0, 0, 1, 0, 0, 1, 0, 0, 1, 1, 1, 1, 2, 1, 1, 0, 3]"
      ]
     },
     "execution_count": 34,
     "metadata": {},
     "output_type": "execute_result"
    }
   ],
   "source": [
    "two_freq"
   ]
  },
  {
   "cell_type": "code",
   "execution_count": 36,
   "id": "742bd578",
   "metadata": {},
   "outputs": [],
   "source": [
    "for word in full_vocab:\n",
    "    word_ind=full_vocab[word]\n",
    "    all_uni_words[word_ind]=word"
   ]
  },
  {
   "cell_type": "code",
   "execution_count": 37,
   "id": "e9031af8",
   "metadata": {},
   "outputs": [
    {
     "data": {
      "text/plain": [
       "['this',\n",
       " 'a',\n",
       " 'pets',\n",
       " 'are',\n",
       " 'sport',\n",
       " 'animals',\n",
       " 'dogs',\n",
       " 'fun',\n",
       " 'canine',\n",
       " 'furry',\n",
       " 'waves',\n",
       " 'about',\n",
       " 'catching',\n",
       " 'water',\n",
       " 'surfing',\n",
       " 'popular',\n",
       " 'story',\n",
       " 'our',\n",
       " 'is']"
      ]
     },
     "execution_count": 37,
     "metadata": {},
     "output_type": "execute_result"
    }
   ],
   "source": [
    "all_uni_words"
   ]
  },
  {
   "cell_type": "code",
   "execution_count": 38,
   "id": "4868d599",
   "metadata": {},
   "outputs": [],
   "source": [
    "import pandas as pd"
   ]
  },
  {
   "cell_type": "code",
   "execution_count": 40,
   "id": "da97299b",
   "metadata": {},
   "outputs": [],
   "source": [
    "bow=pd.DataFrame(data=[one_freq,two_freq],columns=all_uni_words)"
   ]
  },
  {
   "cell_type": "code",
   "execution_count": 41,
   "id": "5782615c",
   "metadata": {},
   "outputs": [
    {
     "data": {
      "text/html": [
       "<div>\n",
       "<style scoped>\n",
       "    .dataframe tbody tr th:only-of-type {\n",
       "        vertical-align: middle;\n",
       "    }\n",
       "\n",
       "    .dataframe tbody tr th {\n",
       "        vertical-align: top;\n",
       "    }\n",
       "\n",
       "    .dataframe thead th {\n",
       "        text-align: right;\n",
       "    }\n",
       "</style>\n",
       "<table border=\"1\" class=\"dataframe\">\n",
       "  <thead>\n",
       "    <tr style=\"text-align: right;\">\n",
       "      <th></th>\n",
       "      <th>this</th>\n",
       "      <th>a</th>\n",
       "      <th>pets</th>\n",
       "      <th>are</th>\n",
       "      <th>sport</th>\n",
       "      <th>animals</th>\n",
       "      <th>dogs</th>\n",
       "      <th>fun</th>\n",
       "      <th>canine</th>\n",
       "      <th>furry</th>\n",
       "      <th>waves</th>\n",
       "      <th>about</th>\n",
       "      <th>catching</th>\n",
       "      <th>water</th>\n",
       "      <th>surfing</th>\n",
       "      <th>popular</th>\n",
       "      <th>story</th>\n",
       "      <th>our</th>\n",
       "      <th>is</th>\n",
       "    </tr>\n",
       "  </thead>\n",
       "  <tbody>\n",
       "    <tr>\n",
       "      <th>0</th>\n",
       "      <td>1</td>\n",
       "      <td>1</td>\n",
       "      <td>1</td>\n",
       "      <td>1</td>\n",
       "      <td>0</td>\n",
       "      <td>1</td>\n",
       "      <td>2</td>\n",
       "      <td>0</td>\n",
       "      <td>1</td>\n",
       "      <td>1</td>\n",
       "      <td>0</td>\n",
       "      <td>1</td>\n",
       "      <td>0</td>\n",
       "      <td>0</td>\n",
       "      <td>0</td>\n",
       "      <td>0</td>\n",
       "      <td>1</td>\n",
       "      <td>1</td>\n",
       "      <td>1</td>\n",
       "    </tr>\n",
       "    <tr>\n",
       "      <th>1</th>\n",
       "      <td>1</td>\n",
       "      <td>1</td>\n",
       "      <td>0</td>\n",
       "      <td>0</td>\n",
       "      <td>1</td>\n",
       "      <td>0</td>\n",
       "      <td>0</td>\n",
       "      <td>1</td>\n",
       "      <td>0</td>\n",
       "      <td>0</td>\n",
       "      <td>1</td>\n",
       "      <td>1</td>\n",
       "      <td>1</td>\n",
       "      <td>1</td>\n",
       "      <td>2</td>\n",
       "      <td>1</td>\n",
       "      <td>1</td>\n",
       "      <td>0</td>\n",
       "      <td>3</td>\n",
       "    </tr>\n",
       "  </tbody>\n",
       "</table>\n",
       "</div>"
      ],
      "text/plain": [
       "   this  a  pets  are  sport  animals  dogs  fun  canine  furry  waves  about  \\\n",
       "0     1  1     1    1      0        1     2    0       1      1      0      1   \n",
       "1     1  1     0    0      1        0     0    1       0      0      1      1   \n",
       "\n",
       "   catching  water  surfing  popular  story  our  is  \n",
       "0         0      0        0        0      1    1   1  \n",
       "1         1      1        2        1      1    0   3  "
      ]
     },
     "execution_count": 41,
     "metadata": {},
     "output_type": "execute_result"
    }
   ],
   "source": [
    "bow\n",
    "# more simialr the number in words the more similar they are"
   ]
  },
  {
   "cell_type": "code",
   "execution_count": 43,
   "id": "f54fff3c",
   "metadata": {},
   "outputs": [],
   "source": [
    "# certain words are common in two documents like this,a,the and if the documents are related to same field like sports run,play will also be common which can be found in different articles of football,cricket and remove them"
   ]
  },
  {
   "cell_type": "code",
   "execution_count": 44,
   "id": "4377f084",
   "metadata": {},
   "outputs": [],
   "source": [
    "# Distinguish with Term frequency-count of words\n",
    "# inverse frequency which is calculated by log of frequency of word based on all the documents\n",
    "# TF_IDF"
   ]
  },
  {
   "cell_type": "code",
   "execution_count": 45,
   "id": "850a2038",
   "metadata": {},
   "outputs": [],
   "source": [
    "text=['This is a line','This is another line','Completetely different line']"
   ]
  },
  {
   "cell_type": "code",
   "execution_count": 61,
   "id": "8c41ef97",
   "metadata": {},
   "outputs": [],
   "source": [
    "from sklearn.feature_extraction.text import CountVectorizer,TfidfTransformer"
   ]
  },
  {
   "cell_type": "code",
   "execution_count": 63,
   "id": "cd3dc1ad",
   "metadata": {},
   "outputs": [],
   "source": [
    "# Count the frequency and create numeric vector\n",
    "# cv=CountVectorizer(stop_words=['a','line'])\n",
    "cv=CountVectorizer()"
   ]
  },
  {
   "cell_type": "code",
   "execution_count": 64,
   "id": "907b935e",
   "metadata": {},
   "outputs": [],
   "source": [
    "sparse_matrix=cv.fit_transform(text)"
   ]
  },
  {
   "cell_type": "code",
   "execution_count": 65,
   "id": "7be2c654",
   "metadata": {},
   "outputs": [
    {
     "data": {
      "text/plain": [
       "matrix([[0, 0, 0, 1, 1, 1],\n",
       "        [1, 0, 0, 1, 1, 1],\n",
       "        [0, 1, 1, 0, 1, 0]], dtype=int64)"
      ]
     },
     "execution_count": 65,
     "metadata": {},
     "output_type": "execute_result"
    }
   ],
   "source": [
    "# sparse matrix as most of the elements will be zero so that we don't eat much of computers memory\n",
    "sparse_matrix.todense()\n",
    "# avoid with large data"
   ]
  },
  {
   "cell_type": "code",
   "execution_count": 66,
   "id": "54749f25",
   "metadata": {},
   "outputs": [
    {
     "data": {
      "text/plain": [
       "{'this': 5,\n",
       " 'is': 3,\n",
       " 'line': 4,\n",
       " 'another': 0,\n",
       " 'completetely': 1,\n",
       " 'different': 2}"
      ]
     },
     "execution_count": 66,
     "metadata": {},
     "output_type": "execute_result"
    }
   ],
   "source": [
    "# stop word->a is being removed\n",
    "cv.vocabulary_"
   ]
  },
  {
   "cell_type": "code",
   "execution_count": 67,
   "id": "329611bb",
   "metadata": {},
   "outputs": [],
   "source": [
    "tfidf=TfidfTransformer()"
   ]
  },
  {
   "cell_type": "code",
   "execution_count": 68,
   "id": "4b44c04f",
   "metadata": {},
   "outputs": [
    {
     "data": {
      "text/plain": [
       "<3x6 sparse matrix of type '<class 'numpy.int64'>'\n",
       "\twith 10 stored elements in Compressed Sparse Row format>"
      ]
     },
     "execution_count": 68,
     "metadata": {},
     "output_type": "execute_result"
    }
   ],
   "source": [
    "sparse_matrix"
   ]
  },
  {
   "cell_type": "code",
   "execution_count": 71,
   "id": "1a9dd1c3",
   "metadata": {},
   "outputs": [],
   "source": [
    "results=tfidf.fit_transform(sparse_matrix)\n",
    "# BOW->TF-IDF"
   ]
  },
  {
   "cell_type": "code",
   "execution_count": 72,
   "id": "857a9637",
   "metadata": {},
   "outputs": [
    {
     "data": {
      "text/plain": [
       "<3x6 sparse matrix of type '<class 'numpy.float64'>'\n",
       "\twith 10 stored elements in Compressed Sparse Row format>"
      ]
     },
     "execution_count": 72,
     "metadata": {},
     "output_type": "execute_result"
    }
   ],
   "source": [
    "results"
   ]
  },
  {
   "cell_type": "code",
   "execution_count": 73,
   "id": "bc5bdede",
   "metadata": {},
   "outputs": [
    {
     "data": {
      "text/plain": [
       "matrix([[0.        , 0.        , 0.        , 0.61980538, 0.48133417,\n",
       "         0.61980538],\n",
       "        [0.63174505, 0.        , 0.        , 0.4804584 , 0.37311881,\n",
       "         0.4804584 ],\n",
       "        [0.        , 0.65249088, 0.65249088, 0.        , 0.38537163,\n",
       "         0.        ]])"
      ]
     },
     "execution_count": 73,
     "metadata": {},
     "output_type": "execute_result"
    }
   ],
   "source": [
    "results.todense()"
   ]
  },
  {
   "cell_type": "code",
   "execution_count": 74,
   "id": "d1c19dbe",
   "metadata": {},
   "outputs": [],
   "source": [
    "# This does everything in one line\n",
    "from sklearn.feature_extraction.text import TfidfVectorizer"
   ]
  },
  {
   "cell_type": "code",
   "execution_count": 75,
   "id": "2ead8d6e",
   "metadata": {},
   "outputs": [],
   "source": [
    "tv=TfidfVectorizer()"
   ]
  },
  {
   "cell_type": "code",
   "execution_count": 76,
   "id": "aee675f1",
   "metadata": {},
   "outputs": [],
   "source": [
    "tv_results=tv.fit_transform(text)"
   ]
  },
  {
   "cell_type": "code",
   "execution_count": 77,
   "id": "58c9ad41",
   "metadata": {},
   "outputs": [
    {
     "data": {
      "text/plain": [
       "matrix([[0.        , 0.        , 0.        , 0.61980538, 0.48133417,\n",
       "         0.61980538],\n",
       "        [0.63174505, 0.        , 0.        , 0.4804584 , 0.37311881,\n",
       "         0.4804584 ],\n",
       "        [0.        , 0.65249088, 0.65249088, 0.        , 0.38537163,\n",
       "         0.        ]])"
      ]
     },
     "execution_count": 77,
     "metadata": {},
     "output_type": "execute_result"
    }
   ],
   "source": [
    "tv_results.todense()"
   ]
  },
  {
   "cell_type": "code",
   "execution_count": null,
   "id": "5007d7cf",
   "metadata": {},
   "outputs": [],
   "source": []
  }
 ],
 "metadata": {
  "kernelspec": {
   "display_name": "Python 3 (ipykernel)",
   "language": "python",
   "name": "python3"
  },
  "language_info": {
   "codemirror_mode": {
    "name": "ipython",
    "version": 3
   },
   "file_extension": ".py",
   "mimetype": "text/x-python",
   "name": "python",
   "nbconvert_exporter": "python",
   "pygments_lexer": "ipython3",
   "version": "3.9.7"
  }
 },
 "nbformat": 4,
 "nbformat_minor": 5
}
